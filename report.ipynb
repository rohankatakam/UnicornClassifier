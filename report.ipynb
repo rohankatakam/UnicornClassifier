{
 "cells": [
  {
   "cell_type": "markdown",
   "id": "80f0ffd4",
   "metadata": {},
   "source": [
    "# Determining Appropriate Funding Status of Current and Emerging Unicorn Companies"
   ]
  },
  {
   "cell_type": "markdown",
   "id": "7d81c1ee",
   "metadata": {},
   "source": [
    "By Joseph Chiappetta, Zachary Hamann, Rohan Katakam, and Guy Santillo"
   ]
  },
  {
   "cell_type": "markdown",
   "id": "5c2b8d8d",
   "metadata": {},
   "source": [
    "# Project question(s)"
   ]
  },
  {
   "cell_type": "markdown",
   "id": "2019cf84",
   "metadata": {},
   "source": [
    "* How do we determine the appropriate funding status of current and emerging unicorn companies?\n",
    "* How do we determine if an emerging or current unicorn company is overvalued or undervalued? \n",
    "\n",
    "A company would be undervalued if it's current funding status is behind what our model predicts for it. For instance, if a company is currently a Early Stage Venture but our model classifies (evaluates) it as a Late Stage Venture, we would identify it as *undervalued*."
   ]
  },
  {
   "cell_type": "markdown",
   "id": "8ae6b78d",
   "metadata": {},
   "source": [
    "# Libraries used"
   ]
  },
  {
   "cell_type": "markdown",
   "id": "fbfdffd6",
   "metadata": {},
   "source": [
    "## pandas\n",
    "Used for data manipulation and analysis"
   ]
  },
  {
   "cell_type": "code",
   "execution_count": 61,
   "id": "f95e4856",
   "metadata": {},
   "outputs": [],
   "source": [
    "import pandas as pd"
   ]
  },
  {
   "cell_type": "markdown",
   "id": "feace60d",
   "metadata": {},
   "source": [
    "## collections\n",
    "Used to count number of values in datasets (using Counter subclass)"
   ]
  },
  {
   "cell_type": "code",
   "execution_count": 62,
   "id": "72eebb34",
   "metadata": {},
   "outputs": [],
   "source": [
    "from collections import Counter"
   ]
  },
  {
   "cell_type": "markdown",
   "id": "92625cfa",
   "metadata": {},
   "source": [
    "## numpy"
   ]
  },
  {
   "cell_type": "markdown",
   "id": "b772286f",
   "metadata": {},
   "source": [
    "Used for mathematical computation over large datasets"
   ]
  },
  {
   "cell_type": "code",
   "execution_count": 63,
   "id": "6ac04a91",
   "metadata": {},
   "outputs": [],
   "source": [
    "import numpy as np"
   ]
  },
  {
   "cell_type": "markdown",
   "id": "215c92a8",
   "metadata": {},
   "source": [
    "## scikit-learn"
   ]
  },
  {
   "cell_type": "markdown",
   "id": "eb548c99",
   "metadata": {},
   "source": [
    "Used for splitting data and creating machine learning models"
   ]
  },
  {
   "cell_type": "code",
   "execution_count": 64,
   "id": "fab8a522",
   "metadata": {},
   "outputs": [],
   "source": [
    "from sklearn.model_selection import train_test_split\n",
    "from sklearn.linear_model import LogisticRegression\n",
    "from sklearn import svm\n",
    "from sklearn.ensemble import RandomForestClassifier"
   ]
  },
  {
   "cell_type": "markdown",
   "id": "0b2f67fa",
   "metadata": {},
   "source": [
    "## forex_python"
   ]
  },
  {
   "cell_type": "markdown",
   "id": "de243215",
   "metadata": {},
   "source": [
    "Used for converting currencies (using CurrencyRates subclass)"
   ]
  },
  {
   "cell_type": "code",
   "execution_count": 65,
   "id": "7e2eafaf",
   "metadata": {},
   "outputs": [],
   "source": [
    "from forex_python.converter import CurrencyRates"
   ]
  },
  {
   "cell_type": "markdown",
   "id": "dea7fe6a",
   "metadata": {},
   "source": [
    "## re"
   ]
  },
  {
   "cell_type": "markdown",
   "id": "73ae6740",
   "metadata": {},
   "source": [
    "Used for string manipulation"
   ]
  },
  {
   "cell_type": "code",
   "execution_count": 66,
   "id": "ae4dfb80",
   "metadata": {},
   "outputs": [],
   "source": [
    "import re"
   ]
  },
  {
   "cell_type": "markdown",
   "id": "6f153061",
   "metadata": {},
   "source": [
    "# Review of Literature"
   ]
  },
  {
   "cell_type": "markdown",
   "id": "b8aac822",
   "metadata": {},
   "source": [
    "Unicorn companies have immense growth potential and several high-profile VC investors (Peter Thiel, Marc Andreessen, Chris Sacca, etc.) have accumulated the majority of their wealth through investing in these companies at the right time. Identifying a unicorn company as undervalued may signal that it may be worth investing in."
   ]
  },
  {
   "cell_type": "markdown",
   "id": "7447dac2",
   "metadata": {},
   "source": [
    "The difficulty lies in producing an accurate valuation for privately-owned companies as described by BusinessBecause writer Imogen Brighty Potts (2021). “These high valuations are far from a guarantee of success. ‘These huge valuations are likely to be a very rough estimate, as unicorns are often focused on entirely new markets, technologies, or business models,’ explains James Hayton, a professor in innovation and organizational creativity at Warwick Business School in the UK. ‘Very high valuations are associated with equally high levels of risk.’ Another reason to be skeptical of the valuation of unicorns is that these figures are usually based on the success of similar companies. In theory, this comparison considers whether there’s a market for a startup’s products or services. But these comparisons can draw false equivalencies. They don’t take into account whether the startup is losing money and can lead to hugely inflated valuations that deceive investors.” Our approach uses Machine Learning to try to eliminate the inaccuracies in the high valuations that are given based on similar companies and the probability of success in a new market."
   ]
  },
  {
   "cell_type": "markdown",
   "id": "2aefce9e",
   "metadata": {},
   "source": [
    "According to Chen (2022), a unicorn company is defined as \"a privately held startup company with a value of over 1 billion dollars\". Venture capitalist, Aileen Lee, coined this term in her 2013 article titled \"Welcome to the Unicorn Club: Learning from Billion-Dollar Startups\" where she looked at software companies that were founded in the 2000s and estimated that only 0.07$\\%$ of these companies would be ever valued as over $1 billion. Some notable unicorn companies are Google, Meta, Uber, SpaceX, and Airbnb."
   ]
  },
  {
   "cell_type": "markdown",
   "id": "6e237415",
   "metadata": {},
   "source": [
    "References\n",
    "* Chen, J. (2022, March 29). What is a Unicorn in Business? Investopedia. Retrieved April 27, \n",
    "2022, from https://www.investopedia.com/terms/u/unicorn.asp#toc-unicorns-in-the-business-world \n",
    "* Potts, I. B. (2021, July 8). Startup Unicorns: Understanding Billion-Dollar Valuations. \n",
    "BusinessBecause. Retrieved April 27, 2022, from https://www.businessbecause.com/news/insights/7706/startup-unicorns-billion-dollar-valuations \n"
   ]
  },
  {
   "cell_type": "markdown",
   "id": "fab11c1e",
   "metadata": {},
   "source": [
    "# Data"
   ]
  },
  {
   "cell_type": "markdown",
   "id": "1469be4a",
   "metadata": {},
   "source": [
    "## Source\n",
    "\n",
    "We collected data for current unicorns and for exited unicorns from [The Crunchbase Unicorn Board](https://news.crunchbase.com/unicorn-company-list/)."
   ]
  },
  {
   "cell_type": "markdown",
   "id": "99a8f3d2",
   "metadata": {},
   "source": [
    "## Data dictionary\n",
    "\n",
    "We combined the data for both current and exited unicorns into a uniform dataset. Here is the breakdown of the variables in the combined dataset:\n",
    "<br>\n",
    "<br>\n",
    "<center>Independent (predictor) variables</center>\n",
    "\n",
    "| Variable | Type | Description |\n",
    "| ----------- | ----------- | ----------- |\n",
    "| Name | Field Name | Name of company |\n",
    "| Total_Equity_Funding | Numerical | Total funding amount raised across all Funding Rounds excluding debt |\n",
    "| Valuation | Numerical | Valuation of company |\n",
    "| Valuation_Date | DateTime | Date the company was given the valuation |\n",
    "| Industries | Multi-Categorical | Pertaining industries of the company |\n",
    "| Top_5_Investors | Multi-Categorical | The top 5 investors with investments in this company, ordered by Crunchbase Rank |\n",
    "| Founded_Date | DateTime | Date the organization was founded |\n",
    "| Last_Funding_Date | DateTime | Date of most recent Funding Round |\n",
    "| Last_Funding_Amount | Numerical | Amount of most recent Funding Round |\n",
    "| Number_Of_Acquisitions | Numerical | Total number of Acquisitions |\n",
    "| CB_Rank | Numerical | Algorithmic rank assigned to the top 100,000 most active Companies |\n",
    "\n",
    "<br>\n",
    "<br>\n",
    "<center>Possible dependent variables</center>\n",
    "\n",
    "| Variable | Type | Description |\n",
    "| ----------- | ----------- | ----------- |\n",
    "| Last_Funding_Type | Categorical | Last funding round type (e.g. Seed, Series A, Private Equity) |\n",
    "| Funding_Status | Categorical | An organization's most recent funding status (e.g. Early Stage Venture, Late Stage Venture, M&A) |"
   ]
  },
  {
   "cell_type": "markdown",
   "id": "a5993de8",
   "metadata": {},
   "source": [
    "## Dependent variable selection\n",
    "\n",
    "We chose **Funding Status** as our dependent variable because it had significantly less categories (6 compared to 23). Although Last Funding Type offers more detailed insight into the stage of the company in the funding process, Funding_Status provides a sufficient amount of information. Both variables have a hierarchy of categories.\n",
    "\n",
    "The funding status of a company will fall into one of the following 6 categories according to our data:\n",
    "\n",
    "| Hierarchy | Category | Description |\n",
    "| ----------- | ----------- | ----------- |\n",
    "| 1 | Seed | Categorical |\n",
    "| 2 | Early Stage Venture | Categorical |\n",
    "| 3 | Late Stage Venture | Categorical |\n",
    "| 4 | Mergers & Acquisions (M&A) | Categorical |\n",
    "| 5 | Private Equity | Categorical |\n",
    "| 6 | Initial Public Offering (IPO) | Categorical |\n",
    "\n",
    "\n",
    "**Last Funding Type** can fall in any of the following 23 different categories: Grant, Series D, Non-equity Assistance, Post-IPO Secondary, Convertible Note, Undisclosed, Series H, Equity Crowdfunding, Debt Financing, Series J, Private Equity, Series C, Series G, Secondary Market, Corporate Round, Series I, Series E, Series A, Seed, Series B, Series F, Post-IPO Debt, Post-IPO Equity, and Initial Coin Offering."
   ]
  },
  {
   "cell_type": "markdown",
   "id": "290e2314",
   "metadata": {},
   "source": [
    "## Processing"
   ]
  },
  {
   "cell_type": "markdown",
   "id": "6563beca",
   "metadata": {},
   "source": [
    "### 1. Upload and parse raw data into DataFrame(s)"
   ]
  },
  {
   "cell_type": "markdown",
   "id": "830fc7dd",
   "metadata": {},
   "source": [
    "**Exited unicorns dataset (eu_df)**\n",
    "\n",
    "Compiled data of unicorns that exited through Initial Public Offering (IPO) or Mergers & Acquisitions (M&A). Contains several well-known companies (Uber, Hulu, Coinbase, etc.)"
   ]
  },
  {
   "cell_type": "code",
   "execution_count": 67,
   "id": "f30fd1c0",
   "metadata": {},
   "outputs": [],
   "source": [
    "exited_unicorns = pd.read_csv(\"exited_unicorns.csv\")"
   ]
  },
  {
   "cell_type": "code",
   "execution_count": 68,
   "id": "60fc3367",
   "metadata": {},
   "outputs": [],
   "source": [
    "eu_list = exited_unicorns[\"1\"].str.split().str.join(' ').tolist()\n",
    "eu_list.insert(0, '1')"
   ]
  },
  {
   "cell_type": "code",
   "execution_count": 69,
   "id": "b97f4146",
   "metadata": {},
   "outputs": [],
   "source": [
    "data = []\n",
    "for i in range(0, len(eu_list), 16):\n",
    "    company = {\n",
    "        \"Name\" : eu_list[i+1],\n",
    "        \"Headquarters_Location\" : eu_list[i+2],\n",
    "        \"Total_Equity_Funding\" : eu_list[i+3],\n",
    "        \"Valuation\" : eu_list[i+4],\n",
    "        \"Valuation_Date\" : eu_list[i+5],\n",
    "        \"Industries\" : eu_list[i+6],\n",
    "        \"Top_5_Investors\" : eu_list[i+7],\n",
    "        \"Founded_Date\" : eu_list[i+8],\n",
    "        \"Funding_Status\" : eu_list[i+9],\n",
    "        \"IPO_Status\" : eu_list[i+10],\n",
    "        \"Last_Funding_Date\" : eu_list[i+11],\n",
    "        \"Last_Funding_Amount\" : eu_list[i+12],\n",
    "        \"Last_Funding_Type\" : eu_list[i+13],\n",
    "        \"Number_Of_Acquisitions\" : eu_list[i+14],\n",
    "        \"CB_Rank\" : eu_list[i+15]\n",
    "    }\n",
    "    data.append(company)\n",
    "\n",
    "eu_df = pd.DataFrame(data)"
   ]
  },
  {
   "cell_type": "code",
   "execution_count": 70,
   "id": "7889d11e",
   "metadata": {},
   "outputs": [
    {
     "data": {
      "text/html": [
       "<div>\n",
       "<style scoped>\n",
       "    .dataframe tbody tr th:only-of-type {\n",
       "        vertical-align: middle;\n",
       "    }\n",
       "\n",
       "    .dataframe tbody tr th {\n",
       "        vertical-align: top;\n",
       "    }\n",
       "\n",
       "    .dataframe thead th {\n",
       "        text-align: right;\n",
       "    }\n",
       "</style>\n",
       "<table border=\"1\" class=\"dataframe\">\n",
       "  <thead>\n",
       "    <tr style=\"text-align: right;\">\n",
       "      <th></th>\n",
       "      <th>Name</th>\n",
       "      <th>Headquarters_Location</th>\n",
       "      <th>Total_Equity_Funding</th>\n",
       "      <th>Valuation</th>\n",
       "      <th>Valuation_Date</th>\n",
       "      <th>Industries</th>\n",
       "      <th>Top_5_Investors</th>\n",
       "      <th>Founded_Date</th>\n",
       "      <th>Funding_Status</th>\n",
       "      <th>IPO_Status</th>\n",
       "      <th>Last_Funding_Date</th>\n",
       "      <th>Last_Funding_Amount</th>\n",
       "      <th>Last_Funding_Type</th>\n",
       "      <th>Number_Of_Acquisitions</th>\n",
       "      <th>CB_Rank</th>\n",
       "    </tr>\n",
       "  </thead>\n",
       "  <tbody>\n",
       "    <tr>\n",
       "      <th>0</th>\n",
       "      <td>blinkit</td>\n",
       "      <td>Gurgaon, Haryana, India</td>\n",
       "      <td>$798,259,135</td>\n",
       "      <td>—</td>\n",
       "      <td>—</td>\n",
       "      <td>Delivery, E-Commerce, E-Commerce Platforms, Gr...</td>\n",
       "      <td>SoftBank, Zomato, Sequoia Capital India, Sequo...</td>\n",
       "      <td>27-Dec-13</td>\n",
       "      <td>M&amp;A</td>\n",
       "      <td>Private</td>\n",
       "      <td>15-Mar-22</td>\n",
       "      <td>$150,000,000</td>\n",
       "      <td>Debt Financing</td>\n",
       "      <td>2</td>\n",
       "      <td>8</td>\n",
       "    </tr>\n",
       "    <tr>\n",
       "      <th>1</th>\n",
       "      <td>Coinbase</td>\n",
       "      <td>San Francisco, California, United States</td>\n",
       "      <td>$525,309,825</td>\n",
       "      <td>$86,000,000,000</td>\n",
       "      <td>14-Apr-21</td>\n",
       "      <td>Bitcoin, Blockchain, Cryptocurrency, E-Commerc...</td>\n",
       "      <td>Junipero, Digital Currency Group, Blockchain C...</td>\n",
       "      <td>2012</td>\n",
       "      <td>IPO</td>\n",
       "      <td>Public</td>\n",
       "      <td>18-Jan-21</td>\n",
       "      <td>$20,000,000</td>\n",
       "      <td>Secondary Market</td>\n",
       "      <td>21</td>\n",
       "      <td>23</td>\n",
       "    </tr>\n",
       "    <tr>\n",
       "      <th>2</th>\n",
       "      <td>Okta</td>\n",
       "      <td>San Francisco, California, United States</td>\n",
       "      <td>$1,228,500,000</td>\n",
       "      <td>$1,500,000,000</td>\n",
       "      <td>6-Apr-17</td>\n",
       "      <td>CRM, Enterprise Software, Identity Management,...</td>\n",
       "      <td>Junipero, Sequoia Capital, Andreessen Horowitz...</td>\n",
       "      <td>1-Jan-09</td>\n",
       "      <td>IPO</td>\n",
       "      <td>Public</td>\n",
       "      <td>8-Jun-20</td>\n",
       "      <td>$1,000,000,000</td>\n",
       "      <td>Post-IPO Equity</td>\n",
       "      <td>6</td>\n",
       "      <td>24</td>\n",
       "    </tr>\n",
       "    <tr>\n",
       "      <th>3</th>\n",
       "      <td>Atlassian</td>\n",
       "      <td>Sydney, New South Wales, Australia</td>\n",
       "      <td>—</td>\n",
       "      <td>$4,400,000,000</td>\n",
       "      <td>10-Dec-15</td>\n",
       "      <td>Collaboration, Enterprise Software, SaaS, Soft...</td>\n",
       "      <td>Accel, T. Rowe Price, Dragoneer Investment Gro...</td>\n",
       "      <td>2002</td>\n",
       "      <td>IPO</td>\n",
       "      <td>Public</td>\n",
       "      <td>8-Apr-14</td>\n",
       "      <td>$150,000,000</td>\n",
       "      <td>Secondary Market</td>\n",
       "      <td>18</td>\n",
       "      <td>34</td>\n",
       "    </tr>\n",
       "    <tr>\n",
       "      <th>4</th>\n",
       "      <td>WeWork</td>\n",
       "      <td>New York, New York, United States</td>\n",
       "      <td>$11,043,784,331</td>\n",
       "      <td>$9,000,000,000</td>\n",
       "      <td>21-Oct-21</td>\n",
       "      <td>Commercial Real Estate, Coworking, Property De...</td>\n",
       "      <td>SoftBank, Goldman Sachs, Insight Partners, Bla...</td>\n",
       "      <td>2010</td>\n",
       "      <td>IPO</td>\n",
       "      <td>Public</td>\n",
       "      <td>29-Oct-21</td>\n",
       "      <td>$150,000,000</td>\n",
       "      <td>Post-IPO Equity</td>\n",
       "      <td>21</td>\n",
       "      <td>37</td>\n",
       "    </tr>\n",
       "  </tbody>\n",
       "</table>\n",
       "</div>"
      ],
      "text/plain": [
       "        Name                     Headquarters_Location Total_Equity_Funding  \\\n",
       "0    blinkit                   Gurgaon, Haryana, India         $798,259,135   \n",
       "1   Coinbase  San Francisco, California, United States         $525,309,825   \n",
       "2       Okta  San Francisco, California, United States       $1,228,500,000   \n",
       "3  Atlassian        Sydney, New South Wales, Australia                    —   \n",
       "4     WeWork         New York, New York, United States      $11,043,784,331   \n",
       "\n",
       "         Valuation Valuation_Date  \\\n",
       "0                —              —   \n",
       "1  $86,000,000,000      14-Apr-21   \n",
       "2   $1,500,000,000       6-Apr-17   \n",
       "3   $4,400,000,000      10-Dec-15   \n",
       "4   $9,000,000,000      21-Oct-21   \n",
       "\n",
       "                                          Industries  \\\n",
       "0  Delivery, E-Commerce, E-Commerce Platforms, Gr...   \n",
       "1  Bitcoin, Blockchain, Cryptocurrency, E-Commerc...   \n",
       "2  CRM, Enterprise Software, Identity Management,...   \n",
       "3  Collaboration, Enterprise Software, SaaS, Soft...   \n",
       "4  Commercial Real Estate, Coworking, Property De...   \n",
       "\n",
       "                                     Top_5_Investors Founded_Date  \\\n",
       "0  SoftBank, Zomato, Sequoia Capital India, Sequo...    27-Dec-13   \n",
       "1  Junipero, Digital Currency Group, Blockchain C...         2012   \n",
       "2  Junipero, Sequoia Capital, Andreessen Horowitz...     1-Jan-09   \n",
       "3  Accel, T. Rowe Price, Dragoneer Investment Gro...         2002   \n",
       "4  SoftBank, Goldman Sachs, Insight Partners, Bla...         2010   \n",
       "\n",
       "  Funding_Status IPO_Status Last_Funding_Date Last_Funding_Amount  \\\n",
       "0            M&A    Private         15-Mar-22        $150,000,000   \n",
       "1            IPO     Public         18-Jan-21         $20,000,000   \n",
       "2            IPO     Public          8-Jun-20      $1,000,000,000   \n",
       "3            IPO     Public          8-Apr-14        $150,000,000   \n",
       "4            IPO     Public         29-Oct-21        $150,000,000   \n",
       "\n",
       "  Last_Funding_Type Number_Of_Acquisitions CB_Rank  \n",
       "0    Debt Financing                      2       8  \n",
       "1  Secondary Market                     21      23  \n",
       "2   Post-IPO Equity                      6      24  \n",
       "3  Secondary Market                     18      34  \n",
       "4   Post-IPO Equity                     21      37  "
      ]
     },
     "execution_count": 70,
     "metadata": {},
     "output_type": "execute_result"
    }
   ],
   "source": [
    "eu_df.head()"
   ]
  },
  {
   "cell_type": "code",
   "execution_count": 71,
   "id": "1a49c3fa",
   "metadata": {},
   "outputs": [
    {
     "data": {
      "text/plain": [
       "(124, 15)"
      ]
     },
     "execution_count": 71,
     "metadata": {},
     "output_type": "execute_result"
    }
   ],
   "source": [
    "eu_df[eu_df[\"Number_Of_Acquisitions\"] == \"—\"].shape"
   ]
  },
  {
   "cell_type": "markdown",
   "id": "02b75f52",
   "metadata": {},
   "source": [
    "**Current unicorns dataset (u_df)**\n",
    "\n",
    "Contains compiled data of current unicorn companies that have not exited. The companies are still in the process of VC funding (Series A-F). Contains less well-known companies with immense growth potential (ByteDance, Stripe, Instacart, etc.)"
   ]
  },
  {
   "cell_type": "code",
   "execution_count": 72,
   "id": "2084d802",
   "metadata": {},
   "outputs": [],
   "source": [
    "unicorns = pd.read_csv(\"unicorns.csv\")"
   ]
  },
  {
   "cell_type": "code",
   "execution_count": 73,
   "id": "3167c3a8",
   "metadata": {},
   "outputs": [],
   "source": [
    "unicorns_list = unicorns[\"1\"].str.split().str.join(' ').tolist()\n",
    "unicorns_list.insert(0, '1')"
   ]
  },
  {
   "cell_type": "code",
   "execution_count": 74,
   "id": "f5f68517",
   "metadata": {},
   "outputs": [],
   "source": [
    "data = []\n",
    "for i in range(0, len(unicorns_list), 15):\n",
    "    company = {\n",
    "        \"Name\" : unicorns_list[i+1],\n",
    "        \"Headquarters_Location\" : unicorns_list[i+2],\n",
    "        \"Total_Equity_Funding\" : unicorns_list[i+3],\n",
    "        \"Valuation\" : unicorns_list[i+4],\n",
    "        \"Valuation_Date\" : unicorns_list[i+5],\n",
    "        \"Industries\" : unicorns_list[i+6],\n",
    "        \"Top_5_Investors\" : unicorns_list[i+7],\n",
    "        \"Founded_Date\" : unicorns_list[i+8],\n",
    "        \"Funding_Status\" : unicorns_list[i+9],\n",
    "        \"Last_Funding_Date\" : unicorns_list[i+10],\n",
    "        \"Last_Funding_Amount\" : unicorns_list[i+11],\n",
    "        \"Last_Funding_Type\" : unicorns_list[i+12],\n",
    "        \"Number_Of_Acquisitions\" : unicorns_list[i+13],\n",
    "        \"CB_Rank\" : unicorns_list[i+14]\n",
    "    }\n",
    "    data.append(company)\n",
    "\n",
    "u_df = pd.DataFrame(data)"
   ]
  },
  {
   "cell_type": "code",
   "execution_count": 75,
   "id": "773209b5",
   "metadata": {},
   "outputs": [
    {
     "data": {
      "text/html": [
       "<div>\n",
       "<style scoped>\n",
       "    .dataframe tbody tr th:only-of-type {\n",
       "        vertical-align: middle;\n",
       "    }\n",
       "\n",
       "    .dataframe tbody tr th {\n",
       "        vertical-align: top;\n",
       "    }\n",
       "\n",
       "    .dataframe thead th {\n",
       "        text-align: right;\n",
       "    }\n",
       "</style>\n",
       "<table border=\"1\" class=\"dataframe\">\n",
       "  <thead>\n",
       "    <tr style=\"text-align: right;\">\n",
       "      <th></th>\n",
       "      <th>Name</th>\n",
       "      <th>Headquarters_Location</th>\n",
       "      <th>Total_Equity_Funding</th>\n",
       "      <th>Valuation</th>\n",
       "      <th>Valuation_Date</th>\n",
       "      <th>Industries</th>\n",
       "      <th>Top_5_Investors</th>\n",
       "      <th>Founded_Date</th>\n",
       "      <th>Funding_Status</th>\n",
       "      <th>Last_Funding_Date</th>\n",
       "      <th>Last_Funding_Amount</th>\n",
       "      <th>Last_Funding_Type</th>\n",
       "      <th>Number_Of_Acquisitions</th>\n",
       "      <th>CB_Rank</th>\n",
       "    </tr>\n",
       "  </thead>\n",
       "  <tbody>\n",
       "    <tr>\n",
       "      <th>2</th>\n",
       "      <td>SpaceX</td>\n",
       "      <td>Hawthorne, California, United States</td>\n",
       "      <td>$6,666,158,366</td>\n",
       "      <td>$100,300,000,000</td>\n",
       "      <td>8-Oct-21</td>\n",
       "      <td>Aerospace, Manufacturing, Space Travel, Transp...</td>\n",
       "      <td>Junipero, Google, Fidelity, Baillie Gifford, B...</td>\n",
       "      <td>6-May-02</td>\n",
       "      <td>—</td>\n",
       "      <td>30-Dec-21</td>\n",
       "      <td>$337,355,200</td>\n",
       "      <td>Venture - Series Unknown</td>\n",
       "      <td>1</td>\n",
       "      <td>296</td>\n",
       "    </tr>\n",
       "    <tr>\n",
       "      <th>6</th>\n",
       "      <td>Canva</td>\n",
       "      <td>Sydney, New South Wales, Australia</td>\n",
       "      <td>$572,200,000</td>\n",
       "      <td>$40,000,000,000</td>\n",
       "      <td>14-Sep-21</td>\n",
       "      <td>Graphic Design, Photo Editing, Publishing, Sof...</td>\n",
       "      <td>500 Startups, General Catalyst, T. Rowe Price,...</td>\n",
       "      <td>2012</td>\n",
       "      <td>—</td>\n",
       "      <td>14-Sep-21</td>\n",
       "      <td>$200,000,000</td>\n",
       "      <td>Venture - Series Unknown</td>\n",
       "      <td>6</td>\n",
       "      <td>3,273</td>\n",
       "    </tr>\n",
       "    <tr>\n",
       "      <th>8</th>\n",
       "      <td>Instacart</td>\n",
       "      <td>San Francisco, California, United States</td>\n",
       "      <td>$2,918,830,549</td>\n",
       "      <td>$39,000,000,000</td>\n",
       "      <td>2-Mar-21</td>\n",
       "      <td>Delivery Service, E-Commerce, Grocery, Shopping</td>\n",
       "      <td>Sequoia Capital, Andreessen Horowitz, FundersC...</td>\n",
       "      <td>2012</td>\n",
       "      <td>—</td>\n",
       "      <td>1-Nov-21</td>\n",
       "      <td>$232,000,000</td>\n",
       "      <td>Venture - Series Unknown</td>\n",
       "      <td>5</td>\n",
       "      <td>881</td>\n",
       "    </tr>\n",
       "    <tr>\n",
       "      <th>13</th>\n",
       "      <td>Epic Games</td>\n",
       "      <td>Cary, North Carolina, United States</td>\n",
       "      <td>$7,110,000,000</td>\n",
       "      <td>$31,500,000,000</td>\n",
       "      <td>11-Apr-22</td>\n",
       "      <td>Developer Platform, Gaming, Software, Video Games</td>\n",
       "      <td>Tencent, Baillie Gifford, T. Rowe Price, Brack...</td>\n",
       "      <td>1991</td>\n",
       "      <td>—</td>\n",
       "      <td>11-Apr-22</td>\n",
       "      <td>$2,000,000,000</td>\n",
       "      <td>Venture - Series Unknown</td>\n",
       "      <td>18</td>\n",
       "      <td>246</td>\n",
       "    </tr>\n",
       "    <tr>\n",
       "      <th>18</th>\n",
       "      <td>Fanatics</td>\n",
       "      <td>Jacksonville, Florida, United States</td>\n",
       "      <td>$4,115,000,000</td>\n",
       "      <td>$27,000,000,000</td>\n",
       "      <td>2-Mar-22</td>\n",
       "      <td>Manufacturing, Retail, Sporting Goods, Sports</td>\n",
       "      <td>Silver Lake, Andreessen Horowitz, Neuberger Be...</td>\n",
       "      <td>2002</td>\n",
       "      <td>M&amp;A</td>\n",
       "      <td>2-Mar-22</td>\n",
       "      <td>$1,500,000,000</td>\n",
       "      <td>Venture - Series Unknown</td>\n",
       "      <td>7</td>\n",
       "      <td>82</td>\n",
       "    </tr>\n",
       "    <tr>\n",
       "      <th>...</th>\n",
       "      <td>...</td>\n",
       "      <td>...</td>\n",
       "      <td>...</td>\n",
       "      <td>...</td>\n",
       "      <td>...</td>\n",
       "      <td>...</td>\n",
       "      <td>...</td>\n",
       "      <td>...</td>\n",
       "      <td>...</td>\n",
       "      <td>...</td>\n",
       "      <td>...</td>\n",
       "      <td>...</td>\n",
       "      <td>...</td>\n",
       "      <td>...</td>\n",
       "    </tr>\n",
       "    <tr>\n",
       "      <th>976</th>\n",
       "      <td>Tarana Wireless</td>\n",
       "      <td>Milpitas, California, United States</td>\n",
       "      <td>$376,142,157</td>\n",
       "      <td>$1,000,000,000</td>\n",
       "      <td>23-Mar-22</td>\n",
       "      <td>Communications Infrastructure, Mobile, Wireless</td>\n",
       "      <td>K3 Ventures, Khosla Ventures, I Squared Capita...</td>\n",
       "      <td>2009</td>\n",
       "      <td>—</td>\n",
       "      <td>23-Mar-22</td>\n",
       "      <td>$170,000,000</td>\n",
       "      <td>Venture - Series Unknown</td>\n",
       "      <td>—</td>\n",
       "      <td>333</td>\n",
       "    </tr>\n",
       "    <tr>\n",
       "      <th>977</th>\n",
       "      <td>Shippo</td>\n",
       "      <td>San Francisco, California, United States</td>\n",
       "      <td>$154,275,000</td>\n",
       "      <td>$1,000,000,000</td>\n",
       "      <td>2-Jun-21</td>\n",
       "      <td>B2B, E-Commerce, Logistics, Software, Supply C...</td>\n",
       "      <td>500 Startups, Plug and Play Tech Center, Funde...</td>\n",
       "      <td>2013</td>\n",
       "      <td>—</td>\n",
       "      <td>1-Dec-21</td>\n",
       "      <td>—</td>\n",
       "      <td>Venture - Series Unknown</td>\n",
       "      <td>—</td>\n",
       "      <td>334</td>\n",
       "    </tr>\n",
       "    <tr>\n",
       "      <th>992</th>\n",
       "      <td>Amagi Media Labs</td>\n",
       "      <td>New York, New York, United States</td>\n",
       "      <td>$240,200,000</td>\n",
       "      <td>$1,000,000,000</td>\n",
       "      <td>16-Mar-22</td>\n",
       "      <td>Advertising Platforms, B2B, Media and Entertai...</td>\n",
       "      <td>Norwest Venture Partners, Accel, PremjiInvest,...</td>\n",
       "      <td>2008</td>\n",
       "      <td>—</td>\n",
       "      <td>16-Mar-22</td>\n",
       "      <td>$95,000,000</td>\n",
       "      <td>Venture - Series Unknown</td>\n",
       "      <td>—</td>\n",
       "      <td>659</td>\n",
       "    </tr>\n",
       "    <tr>\n",
       "      <th>993</th>\n",
       "      <td>Eat Just</td>\n",
       "      <td>San Francisco, California, United States</td>\n",
       "      <td>$440,000,000</td>\n",
       "      <td>$1,000,000,000</td>\n",
       "      <td>23-Mar-21</td>\n",
       "      <td>Biotechnology, Food and Beverage, Food Process...</td>\n",
       "      <td>Founders Fund, Vulcan Capital, Khosla Ventures...</td>\n",
       "      <td>2011</td>\n",
       "      <td>—</td>\n",
       "      <td>18-Nov-21</td>\n",
       "      <td>—</td>\n",
       "      <td>Venture - Series Unknown</td>\n",
       "      <td>—</td>\n",
       "      <td>671</td>\n",
       "    </tr>\n",
       "    <tr>\n",
       "      <th>995</th>\n",
       "      <td>Mamaearth</td>\n",
       "      <td>Gurgaon, Haryana, India</td>\n",
       "      <td>$110,813,960</td>\n",
       "      <td>$1,000,000,000</td>\n",
       "      <td>28-Dec-21</td>\n",
       "      <td>E-Commerce, Health Care, Retail, Wellness</td>\n",
       "      <td>Sequoia Capital India, Sofina, Stellaris Ventu...</td>\n",
       "      <td>2016</td>\n",
       "      <td>—</td>\n",
       "      <td>28-Dec-21</td>\n",
       "      <td>$37,500,000</td>\n",
       "      <td>Venture - Series Unknown</td>\n",
       "      <td>3</td>\n",
       "      <td>733</td>\n",
       "    </tr>\n",
       "  </tbody>\n",
       "</table>\n",
       "<p>104 rows × 14 columns</p>\n",
       "</div>"
      ],
      "text/plain": [
       "                 Name                     Headquarters_Location  \\\n",
       "2              SpaceX      Hawthorne, California, United States   \n",
       "6               Canva        Sydney, New South Wales, Australia   \n",
       "8           Instacart  San Francisco, California, United States   \n",
       "13         Epic Games       Cary, North Carolina, United States   \n",
       "18           Fanatics      Jacksonville, Florida, United States   \n",
       "..                ...                                       ...   \n",
       "976   Tarana Wireless       Milpitas, California, United States   \n",
       "977            Shippo  San Francisco, California, United States   \n",
       "992  Amagi Media Labs         New York, New York, United States   \n",
       "993          Eat Just  San Francisco, California, United States   \n",
       "995         Mamaearth                   Gurgaon, Haryana, India   \n",
       "\n",
       "    Total_Equity_Funding         Valuation Valuation_Date  \\\n",
       "2         $6,666,158,366  $100,300,000,000       8-Oct-21   \n",
       "6           $572,200,000   $40,000,000,000      14-Sep-21   \n",
       "8         $2,918,830,549   $39,000,000,000       2-Mar-21   \n",
       "13        $7,110,000,000   $31,500,000,000      11-Apr-22   \n",
       "18        $4,115,000,000   $27,000,000,000       2-Mar-22   \n",
       "..                   ...               ...            ...   \n",
       "976         $376,142,157    $1,000,000,000      23-Mar-22   \n",
       "977         $154,275,000    $1,000,000,000       2-Jun-21   \n",
       "992         $240,200,000    $1,000,000,000      16-Mar-22   \n",
       "993         $440,000,000    $1,000,000,000      23-Mar-21   \n",
       "995         $110,813,960    $1,000,000,000      28-Dec-21   \n",
       "\n",
       "                                            Industries  \\\n",
       "2    Aerospace, Manufacturing, Space Travel, Transp...   \n",
       "6    Graphic Design, Photo Editing, Publishing, Sof...   \n",
       "8      Delivery Service, E-Commerce, Grocery, Shopping   \n",
       "13   Developer Platform, Gaming, Software, Video Games   \n",
       "18       Manufacturing, Retail, Sporting Goods, Sports   \n",
       "..                                                 ...   \n",
       "976    Communications Infrastructure, Mobile, Wireless   \n",
       "977  B2B, E-Commerce, Logistics, Software, Supply C...   \n",
       "992  Advertising Platforms, B2B, Media and Entertai...   \n",
       "993  Biotechnology, Food and Beverage, Food Process...   \n",
       "995          E-Commerce, Health Care, Retail, Wellness   \n",
       "\n",
       "                                       Top_5_Investors Founded_Date  \\\n",
       "2    Junipero, Google, Fidelity, Baillie Gifford, B...     6-May-02   \n",
       "6    500 Startups, General Catalyst, T. Rowe Price,...         2012   \n",
       "8    Sequoia Capital, Andreessen Horowitz, FundersC...         2012   \n",
       "13   Tencent, Baillie Gifford, T. Rowe Price, Brack...         1991   \n",
       "18   Silver Lake, Andreessen Horowitz, Neuberger Be...         2002   \n",
       "..                                                 ...          ...   \n",
       "976  K3 Ventures, Khosla Ventures, I Squared Capita...         2009   \n",
       "977  500 Startups, Plug and Play Tech Center, Funde...         2013   \n",
       "992  Norwest Venture Partners, Accel, PremjiInvest,...         2008   \n",
       "993  Founders Fund, Vulcan Capital, Khosla Ventures...         2011   \n",
       "995  Sequoia Capital India, Sofina, Stellaris Ventu...         2016   \n",
       "\n",
       "    Funding_Status Last_Funding_Date Last_Funding_Amount  \\\n",
       "2                —         30-Dec-21        $337,355,200   \n",
       "6                —         14-Sep-21        $200,000,000   \n",
       "8                —          1-Nov-21        $232,000,000   \n",
       "13               —         11-Apr-22      $2,000,000,000   \n",
       "18             M&A          2-Mar-22      $1,500,000,000   \n",
       "..             ...               ...                 ...   \n",
       "976              —         23-Mar-22        $170,000,000   \n",
       "977              —          1-Dec-21                   —   \n",
       "992              —         16-Mar-22         $95,000,000   \n",
       "993              —         18-Nov-21                   —   \n",
       "995              —         28-Dec-21         $37,500,000   \n",
       "\n",
       "            Last_Funding_Type Number_Of_Acquisitions CB_Rank  \n",
       "2    Venture - Series Unknown                      1     296  \n",
       "6    Venture - Series Unknown                      6   3,273  \n",
       "8    Venture - Series Unknown                      5     881  \n",
       "13   Venture - Series Unknown                     18     246  \n",
       "18   Venture - Series Unknown                      7      82  \n",
       "..                        ...                    ...     ...  \n",
       "976  Venture - Series Unknown                      —     333  \n",
       "977  Venture - Series Unknown                      —     334  \n",
       "992  Venture - Series Unknown                      —     659  \n",
       "993  Venture - Series Unknown                      —     671  \n",
       "995  Venture - Series Unknown                      3     733  \n",
       "\n",
       "[104 rows x 14 columns]"
      ]
     },
     "execution_count": 75,
     "metadata": {},
     "output_type": "execute_result"
    }
   ],
   "source": [
    "u_df[u_df[\"Last_Funding_Type\"] == \"Venture - Series Unknown\"]"
   ]
  },
  {
   "cell_type": "markdown",
   "id": "9e8f8bfb",
   "metadata": {},
   "source": [
    "### 2. Compare exited unicorns and current unicorns data"
   ]
  },
  {
   "cell_type": "markdown",
   "id": "12797d4b",
   "metadata": {},
   "source": [
    "#### # of unique values"
   ]
  },
  {
   "cell_type": "markdown",
   "id": "e892652b",
   "metadata": {},
   "source": [
    "Exited unicorns dataset (eu_df)"
   ]
  },
  {
   "cell_type": "code",
   "execution_count": 76,
   "id": "ec218a3a",
   "metadata": {},
   "outputs": [
    {
     "data": {
      "text/plain": [
       "Name                      391\n",
       "Headquarters_Location     141\n",
       "Total_Equity_Funding      377\n",
       "Valuation                 223\n",
       "Valuation_Date            259\n",
       "Industries                387\n",
       "Top_5_Investors           390\n",
       "Founded_Date              170\n",
       "Funding_Status              3\n",
       "IPO_Status                  3\n",
       "Last_Funding_Date         345\n",
       "Last_Funding_Amount       169\n",
       "Last_Funding_Type          21\n",
       "Number_Of_Acquisitions     33\n",
       "CB_Rank                   386\n",
       "dtype: int64"
      ]
     },
     "execution_count": 76,
     "metadata": {},
     "output_type": "execute_result"
    }
   ],
   "source": [
    "eu_df.nunique()"
   ]
  },
  {
   "cell_type": "markdown",
   "id": "b643156b",
   "metadata": {},
   "source": [
    "Current unicorns dataset (u_df)"
   ]
  },
  {
   "cell_type": "code",
   "execution_count": 77,
   "id": "94a902b6",
   "metadata": {},
   "outputs": [
    {
     "data": {
      "text/plain": [
       "Name                      999\n",
       "Headquarters_Location     270\n",
       "Total_Equity_Funding      892\n",
       "Valuation                 344\n",
       "Valuation_Date            489\n",
       "Industries                964\n",
       "Top_5_Investors           996\n",
       "Founded_Date              316\n",
       "Funding_Status              7\n",
       "Last_Funding_Date         453\n",
       "Last_Funding_Amount       317\n",
       "Last_Funding_Type          20\n",
       "Number_Of_Acquisitions     22\n",
       "CB_Rank                   981\n",
       "dtype: int64"
      ]
     },
     "execution_count": 77,
     "metadata": {},
     "output_type": "execute_result"
    }
   ],
   "source": [
    "u_df.nunique()"
   ]
  },
  {
   "cell_type": "markdown",
   "id": "7ac82abe",
   "metadata": {},
   "source": [
    "### 3. Analyze potential dependent variables further (Last Funding Type and Funding Status)**"
   ]
  },
  {
   "cell_type": "markdown",
   "id": "c06320f1",
   "metadata": {},
   "source": [
    "Last Funding Type - unique values in both eu_df and u_df"
   ]
  },
  {
   "cell_type": "code",
   "execution_count": 78,
   "id": "6d118612",
   "metadata": {},
   "outputs": [
    {
     "data": {
      "text/plain": [
       "{'Convertible Note',\n",
       " 'Corporate Round',\n",
       " 'Debt Financing',\n",
       " 'Equity Crowdfunding',\n",
       " 'Grant',\n",
       " 'Initial Coin Offering',\n",
       " 'Non-equity Assistance',\n",
       " 'Post-IPO Debt',\n",
       " 'Post-IPO Equity',\n",
       " 'Post-IPO Secondary',\n",
       " 'Private Equity',\n",
       " 'Secondary Market',\n",
       " 'Seed',\n",
       " 'Series A',\n",
       " 'Series B',\n",
       " 'Series C',\n",
       " 'Series D',\n",
       " 'Series E',\n",
       " 'Series F',\n",
       " 'Series G',\n",
       " 'Series H',\n",
       " 'Series I',\n",
       " 'Series J',\n",
       " 'Undisclosed',\n",
       " 'Venture - Series Unknown'}"
      ]
     },
     "execution_count": 78,
     "metadata": {},
     "output_type": "execute_result"
    }
   ],
   "source": [
    "set(u_df[\"Last_Funding_Type\"].unique()).union(set(eu_df[\"Last_Funding_Type\"].unique()))"
   ]
  },
  {
   "cell_type": "markdown",
   "id": "b214cedd",
   "metadata": {},
   "source": [
    "Last Funding Type - # of unique values in both eu_df and u_df"
   ]
  },
  {
   "cell_type": "code",
   "execution_count": 79,
   "id": "479cffb3",
   "metadata": {},
   "outputs": [
    {
     "data": {
      "text/plain": [
       "25"
      ]
     },
     "execution_count": 79,
     "metadata": {},
     "output_type": "execute_result"
    }
   ],
   "source": [
    "len(set(u_df[\"Last_Funding_Type\"].unique()).union(set(eu_df[\"Last_Funding_Type\"].unique())))"
   ]
  },
  {
   "cell_type": "markdown",
   "id": "43532d5f",
   "metadata": {},
   "source": [
    "Funding Status - unique values in both eu_df and u_df"
   ]
  },
  {
   "cell_type": "code",
   "execution_count": 80,
   "id": "e609ff9a",
   "metadata": {},
   "outputs": [
    {
     "data": {
      "text/plain": [
       "{'Early Stage Venture',\n",
       " 'IPO',\n",
       " 'Late Stage Venture',\n",
       " 'M&A',\n",
       " 'Private Equity',\n",
       " 'Seed',\n",
       " '—'}"
      ]
     },
     "execution_count": 80,
     "metadata": {},
     "output_type": "execute_result"
    }
   ],
   "source": [
    "set(u_df[\"Funding_Status\"].unique()).union(set(eu_df[\"Funding_Status\"].unique()))"
   ]
  },
  {
   "cell_type": "markdown",
   "id": "48e1999e",
   "metadata": {},
   "source": [
    "Funding Status - # of unique values in both eu_df and u_df"
   ]
  },
  {
   "cell_type": "code",
   "execution_count": 81,
   "id": "ed0b42a7",
   "metadata": {},
   "outputs": [
    {
     "data": {
      "text/plain": [
       "7"
      ]
     },
     "execution_count": 81,
     "metadata": {},
     "output_type": "execute_result"
    }
   ],
   "source": [
    "len(set(u_df[\"Funding_Status\"].unique()).union(set(eu_df[\"Funding_Status\"].unique())))"
   ]
  },
  {
   "cell_type": "markdown",
   "id": "53e1ee34",
   "metadata": {},
   "source": [
    "**Last Funding Type** and **Funding Status** are both promising dependent variables. We will train seperate classification models to analyze these dependent variables seperately. It is predicted that **Funding Status** will offer **higher model accuracy** because there are significantly less # of unique values (10 vs. 41). However, **Last_Funding_Type** still offers valuable insights."
   ]
  },
  {
   "cell_type": "markdown",
   "id": "0f546a53",
   "metadata": {},
   "source": [
    "### 4. Combine datasets"
   ]
  },
  {
   "cell_type": "markdown",
   "id": "f3cfc861",
   "metadata": {},
   "source": [
    "#### Remove IPO_Status from eu_df due to inconsistency between datasets"
   ]
  },
  {
   "cell_type": "code",
   "execution_count": 82,
   "id": "c08d8512",
   "metadata": {},
   "outputs": [],
   "source": [
    "eu_df = eu_df.drop(columns=[\"IPO_Status\"])"
   ]
  },
  {
   "cell_type": "markdown",
   "id": "1cb86392",
   "metadata": {},
   "source": [
    "#### Confirm that the columns in both DataFrames are now equal"
   ]
  },
  {
   "cell_type": "code",
   "execution_count": 83,
   "id": "40a32290",
   "metadata": {},
   "outputs": [
    {
     "data": {
      "text/plain": [
       "array([ True,  True,  True,  True,  True,  True,  True,  True,  True,\n",
       "        True,  True,  True,  True,  True])"
      ]
     },
     "execution_count": 83,
     "metadata": {},
     "output_type": "execute_result"
    }
   ],
   "source": [
    "(u_df.columns) == (eu_df.columns)"
   ]
  },
  {
   "cell_type": "markdown",
   "id": "fc299096",
   "metadata": {},
   "source": [
    "#### Combine eu_df and u_df into a new DataFrame **all_df**"
   ]
  },
  {
   "cell_type": "code",
   "execution_count": 84,
   "id": "bf15a075",
   "metadata": {},
   "outputs": [],
   "source": [
    "all_df = pd.concat([u_df, eu_df], axis=0)"
   ]
  },
  {
   "cell_type": "code",
   "execution_count": 85,
   "id": "2c9e0355",
   "metadata": {},
   "outputs": [
    {
     "data": {
      "text/plain": [
       "(1391, 14)"
      ]
     },
     "execution_count": 85,
     "metadata": {},
     "output_type": "execute_result"
    }
   ],
   "source": [
    "all_df.shape"
   ]
  },
  {
   "cell_type": "code",
   "execution_count": 86,
   "id": "5c26a0e9",
   "metadata": {},
   "outputs": [
    {
     "data": {
      "text/plain": [
       "['Name',\n",
       " 'Headquarters_Location',\n",
       " 'Total_Equity_Funding',\n",
       " 'Valuation',\n",
       " 'Valuation_Date',\n",
       " 'Industries',\n",
       " 'Top_5_Investors',\n",
       " 'Founded_Date',\n",
       " 'Funding_Status',\n",
       " 'Last_Funding_Date',\n",
       " 'Last_Funding_Amount',\n",
       " 'Last_Funding_Type',\n",
       " 'Number_Of_Acquisitions',\n",
       " 'CB_Rank']"
      ]
     },
     "execution_count": 86,
     "metadata": {},
     "output_type": "execute_result"
    }
   ],
   "source": [
    "list(all_df.columns)"
   ]
  },
  {
   "cell_type": "markdown",
   "id": "45e22bee",
   "metadata": {},
   "source": [
    "### 5. Standardize data"
   ]
  },
  {
   "cell_type": "markdown",
   "id": "17aeb0c3",
   "metadata": {},
   "source": [
    "#### Replace \"— with 0 in Number_Of_Acquisitions"
   ]
  },
  {
   "cell_type": "code",
   "execution_count": 87,
   "id": "869ae789",
   "metadata": {},
   "outputs": [],
   "source": [
    "all_df[\"Number_Of_Acquisitions\"] = all_df[\"Number_Of_Acquisitions\"].replace(\"—\", 0)"
   ]
  },
  {
   "cell_type": "code",
   "execution_count": 88,
   "id": "965c2b41",
   "metadata": {},
   "outputs": [
    {
     "data": {
      "text/html": [
       "<div>\n",
       "<style scoped>\n",
       "    .dataframe tbody tr th:only-of-type {\n",
       "        vertical-align: middle;\n",
       "    }\n",
       "\n",
       "    .dataframe tbody tr th {\n",
       "        vertical-align: top;\n",
       "    }\n",
       "\n",
       "    .dataframe thead th {\n",
       "        text-align: right;\n",
       "    }\n",
       "</style>\n",
       "<table border=\"1\" class=\"dataframe\">\n",
       "  <thead>\n",
       "    <tr style=\"text-align: right;\">\n",
       "      <th></th>\n",
       "      <th>Name</th>\n",
       "      <th>Headquarters_Location</th>\n",
       "      <th>Total_Equity_Funding</th>\n",
       "      <th>Valuation</th>\n",
       "      <th>Valuation_Date</th>\n",
       "      <th>Industries</th>\n",
       "      <th>Top_5_Investors</th>\n",
       "      <th>Founded_Date</th>\n",
       "      <th>Funding_Status</th>\n",
       "      <th>Last_Funding_Date</th>\n",
       "      <th>Last_Funding_Amount</th>\n",
       "      <th>Last_Funding_Type</th>\n",
       "      <th>Number_Of_Acquisitions</th>\n",
       "      <th>CB_Rank</th>\n",
       "    </tr>\n",
       "  </thead>\n",
       "  <tbody>\n",
       "    <tr>\n",
       "      <th>0</th>\n",
       "      <td>ByteDance</td>\n",
       "      <td>Shanghai, Shanghai, China</td>\n",
       "      <td>$8,105,000,000</td>\n",
       "      <td>$180,000,000,000</td>\n",
       "      <td>11-Dec-20</td>\n",
       "      <td>Content, Data Mining, Internet, Social Media</td>\n",
       "      <td>Sequoia Capital, Goldman Sachs, Morgan Stanley...</td>\n",
       "      <td>Mar-12</td>\n",
       "      <td>Private Equity</td>\n",
       "      <td>11-Dec-20</td>\n",
       "      <td>$2,000,000,000</td>\n",
       "      <td>Private Equity</td>\n",
       "      <td>12</td>\n",
       "      <td>949</td>\n",
       "    </tr>\n",
       "    <tr>\n",
       "      <th>1</th>\n",
       "      <td>Ant Group</td>\n",
       "      <td>Hangzhou, Zhejiang, China</td>\n",
       "      <td>$18,500,000,000</td>\n",
       "      <td>$150,000,000,000</td>\n",
       "      <td>8-Jun-18</td>\n",
       "      <td>Banking, Financial Services, FinTech, Payments</td>\n",
       "      <td>Silver Lake, Warburg Pincus, Sequoia Capital, ...</td>\n",
       "      <td>Oct-14</td>\n",
       "      <td>Late Stage Venture</td>\n",
       "      <td>1-Jan-21</td>\n",
       "      <td>—</td>\n",
       "      <td>Series E</td>\n",
       "      <td>5</td>\n",
       "      <td>3,367</td>\n",
       "    </tr>\n",
       "    <tr>\n",
       "      <th>2</th>\n",
       "      <td>SpaceX</td>\n",
       "      <td>Hawthorne, California, United States</td>\n",
       "      <td>$6,666,158,366</td>\n",
       "      <td>$100,300,000,000</td>\n",
       "      <td>8-Oct-21</td>\n",
       "      <td>Aerospace, Manufacturing, Space Travel, Transp...</td>\n",
       "      <td>Junipero, Google, Fidelity, Baillie Gifford, B...</td>\n",
       "      <td>6-May-02</td>\n",
       "      <td>—</td>\n",
       "      <td>30-Dec-21</td>\n",
       "      <td>$337,355,200</td>\n",
       "      <td>Venture - Series Unknown</td>\n",
       "      <td>1</td>\n",
       "      <td>296</td>\n",
       "    </tr>\n",
       "    <tr>\n",
       "      <th>3</th>\n",
       "      <td>Shein</td>\n",
       "      <td>Nanjing, Jiangsu, China</td>\n",
       "      <td>$2,053,426,604</td>\n",
       "      <td>$100,000,000,000</td>\n",
       "      <td>4-Apr-22</td>\n",
       "      <td>E-Commerce, Fashion, Marketplace, Textiles</td>\n",
       "      <td>General Atlantic, Tiger Global Management, IDG...</td>\n",
       "      <td>2008</td>\n",
       "      <td>Late Stage Venture</td>\n",
       "      <td>4-Apr-22</td>\n",
       "      <td>$1,500,000,000</td>\n",
       "      <td>Series F</td>\n",
       "      <td>1</td>\n",
       "      <td>23</td>\n",
       "    </tr>\n",
       "    <tr>\n",
       "      <th>4</th>\n",
       "      <td>Stripe</td>\n",
       "      <td>San Francisco, California, United States</td>\n",
       "      <td>$2,235,000,000</td>\n",
       "      <td>$95,000,000,000</td>\n",
       "      <td>14-Mar-21</td>\n",
       "      <td>Finance, FinTech, Mobile Payments, SaaS</td>\n",
       "      <td>Junipero, Google, Sequoia Capital, Andreessen ...</td>\n",
       "      <td>2010</td>\n",
       "      <td>—</td>\n",
       "      <td>14-Jul-21</td>\n",
       "      <td>—</td>\n",
       "      <td>Secondary Market</td>\n",
       "      <td>13</td>\n",
       "      <td>205</td>\n",
       "    </tr>\n",
       "    <tr>\n",
       "      <th>...</th>\n",
       "      <td>...</td>\n",
       "      <td>...</td>\n",
       "      <td>...</td>\n",
       "      <td>...</td>\n",
       "      <td>...</td>\n",
       "      <td>...</td>\n",
       "      <td>...</td>\n",
       "      <td>...</td>\n",
       "      <td>...</td>\n",
       "      <td>...</td>\n",
       "      <td>...</td>\n",
       "      <td>...</td>\n",
       "      <td>...</td>\n",
       "      <td>...</td>\n",
       "    </tr>\n",
       "    <tr>\n",
       "      <th>386</th>\n",
       "      <td>Youdao</td>\n",
       "      <td>Beijing, Beijing, China</td>\n",
       "      <td>—</td>\n",
       "      <td>$1,600,000,000</td>\n",
       "      <td>24-Oct-19</td>\n",
       "      <td>Big Data, Education, Information Services, Inf...</td>\n",
       "      <td>Legend Capital, VMS Asset Management, Muhua Ji...</td>\n",
       "      <td>2007</td>\n",
       "      <td>IPO</td>\n",
       "      <td>18-Apr-18</td>\n",
       "      <td>—</td>\n",
       "      <td>Series A</td>\n",
       "      <td>0</td>\n",
       "      <td>165,285</td>\n",
       "    </tr>\n",
       "    <tr>\n",
       "      <th>387</th>\n",
       "      <td>Lashou.com</td>\n",
       "      <td>Beijing, Beijing, China</td>\n",
       "      <td>$165,000,000</td>\n",
       "      <td>—</td>\n",
       "      <td>—</td>\n",
       "      <td>E-Commerce, Internet, Social</td>\n",
       "      <td>Norwest Venture Partners, GSR Ventures, Tenaya...</td>\n",
       "      <td>18-Mar-10</td>\n",
       "      <td>M&amp;A</td>\n",
       "      <td>1-Mar-11</td>\n",
       "      <td>$110,000,000</td>\n",
       "      <td>Series C</td>\n",
       "      <td>0</td>\n",
       "      <td>172,184</td>\n",
       "    </tr>\n",
       "    <tr>\n",
       "      <th>388</th>\n",
       "      <td>MiaSolé</td>\n",
       "      <td>Santa Clara, California, United States</td>\n",
       "      <td>$216,400,000</td>\n",
       "      <td>—</td>\n",
       "      <td>—</td>\n",
       "      <td>Clean Energy, Energy, Solar</td>\n",
       "      <td>Bessemer Venture Partners, Kleiner Perkins, Se...</td>\n",
       "      <td>2001</td>\n",
       "      <td>M&amp;A</td>\n",
       "      <td>7-Mar-12</td>\n",
       "      <td>$55,000,000</td>\n",
       "      <td>Debt Financing</td>\n",
       "      <td>0</td>\n",
       "      <td>201,832</td>\n",
       "    </tr>\n",
       "    <tr>\n",
       "      <th>389</th>\n",
       "      <td>ZeniMax</td>\n",
       "      <td>Rockville, Maryland, United States</td>\n",
       "      <td>$469,900,000</td>\n",
       "      <td>—</td>\n",
       "      <td>—</td>\n",
       "      <td>Computer, Gaming, Media and Entertainment</td>\n",
       "      <td>Providence Equity Partners, SBS, Ardsley Partn...</td>\n",
       "      <td>1999</td>\n",
       "      <td>M&amp;A</td>\n",
       "      <td>6-Oct-10</td>\n",
       "      <td>$150,000,000</td>\n",
       "      <td>Private Equity</td>\n",
       "      <td>2</td>\n",
       "      <td>325,732</td>\n",
       "    </tr>\n",
       "    <tr>\n",
       "      <th>390</th>\n",
       "      <td>Xiaomi</td>\n",
       "      <td>Beijing, Beijing, China</td>\n",
       "      <td>$4,534,000,000</td>\n",
       "      <td>$52,700,000,000</td>\n",
       "      <td>9-Jul-18</td>\n",
       "      <td>Consumer Electronics, Internet, Mobile</td>\n",
       "      <td>Temasek Holdings, Goldman Sachs, Morgan Stanle...</td>\n",
       "      <td>6-Apr-10</td>\n",
       "      <td>IPO</td>\n",
       "      <td>2-Dec-20</td>\n",
       "      <td>$3,055,000,000</td>\n",
       "      <td>Post-IPO Equity</td>\n",
       "      <td>1</td>\n",
       "      <td>1,836,960</td>\n",
       "    </tr>\n",
       "  </tbody>\n",
       "</table>\n",
       "<p>1391 rows × 14 columns</p>\n",
       "</div>"
      ],
      "text/plain": [
       "           Name                     Headquarters_Location  \\\n",
       "0     ByteDance                 Shanghai, Shanghai, China   \n",
       "1     Ant Group                 Hangzhou, Zhejiang, China   \n",
       "2        SpaceX      Hawthorne, California, United States   \n",
       "3         Shein                   Nanjing, Jiangsu, China   \n",
       "4        Stripe  San Francisco, California, United States   \n",
       "..          ...                                       ...   \n",
       "386      Youdao                   Beijing, Beijing, China   \n",
       "387  Lashou.com                   Beijing, Beijing, China   \n",
       "388     MiaSolé    Santa Clara, California, United States   \n",
       "389     ZeniMax        Rockville, Maryland, United States   \n",
       "390      Xiaomi                   Beijing, Beijing, China   \n",
       "\n",
       "    Total_Equity_Funding         Valuation Valuation_Date  \\\n",
       "0         $8,105,000,000  $180,000,000,000      11-Dec-20   \n",
       "1        $18,500,000,000  $150,000,000,000       8-Jun-18   \n",
       "2         $6,666,158,366  $100,300,000,000       8-Oct-21   \n",
       "3         $2,053,426,604  $100,000,000,000       4-Apr-22   \n",
       "4         $2,235,000,000   $95,000,000,000      14-Mar-21   \n",
       "..                   ...               ...            ...   \n",
       "386                    —    $1,600,000,000      24-Oct-19   \n",
       "387         $165,000,000                 —              —   \n",
       "388         $216,400,000                 —              —   \n",
       "389         $469,900,000                 —              —   \n",
       "390       $4,534,000,000   $52,700,000,000       9-Jul-18   \n",
       "\n",
       "                                            Industries  \\\n",
       "0         Content, Data Mining, Internet, Social Media   \n",
       "1       Banking, Financial Services, FinTech, Payments   \n",
       "2    Aerospace, Manufacturing, Space Travel, Transp...   \n",
       "3           E-Commerce, Fashion, Marketplace, Textiles   \n",
       "4              Finance, FinTech, Mobile Payments, SaaS   \n",
       "..                                                 ...   \n",
       "386  Big Data, Education, Information Services, Inf...   \n",
       "387                       E-Commerce, Internet, Social   \n",
       "388                        Clean Energy, Energy, Solar   \n",
       "389          Computer, Gaming, Media and Entertainment   \n",
       "390             Consumer Electronics, Internet, Mobile   \n",
       "\n",
       "                                       Top_5_Investors Founded_Date  \\\n",
       "0    Sequoia Capital, Goldman Sachs, Morgan Stanley...       Mar-12   \n",
       "1    Silver Lake, Warburg Pincus, Sequoia Capital, ...       Oct-14   \n",
       "2    Junipero, Google, Fidelity, Baillie Gifford, B...     6-May-02   \n",
       "3    General Atlantic, Tiger Global Management, IDG...         2008   \n",
       "4    Junipero, Google, Sequoia Capital, Andreessen ...         2010   \n",
       "..                                                 ...          ...   \n",
       "386  Legend Capital, VMS Asset Management, Muhua Ji...         2007   \n",
       "387  Norwest Venture Partners, GSR Ventures, Tenaya...    18-Mar-10   \n",
       "388  Bessemer Venture Partners, Kleiner Perkins, Se...         2001   \n",
       "389  Providence Equity Partners, SBS, Ardsley Partn...         1999   \n",
       "390  Temasek Holdings, Goldman Sachs, Morgan Stanle...     6-Apr-10   \n",
       "\n",
       "         Funding_Status Last_Funding_Date Last_Funding_Amount  \\\n",
       "0        Private Equity         11-Dec-20      $2,000,000,000   \n",
       "1    Late Stage Venture          1-Jan-21                   —   \n",
       "2                     —         30-Dec-21        $337,355,200   \n",
       "3    Late Stage Venture          4-Apr-22      $1,500,000,000   \n",
       "4                     —         14-Jul-21                   —   \n",
       "..                  ...               ...                 ...   \n",
       "386                 IPO         18-Apr-18                   —   \n",
       "387                 M&A          1-Mar-11        $110,000,000   \n",
       "388                 M&A          7-Mar-12         $55,000,000   \n",
       "389                 M&A          6-Oct-10        $150,000,000   \n",
       "390                 IPO          2-Dec-20      $3,055,000,000   \n",
       "\n",
       "            Last_Funding_Type Number_Of_Acquisitions    CB_Rank  \n",
       "0              Private Equity                     12        949  \n",
       "1                    Series E                      5      3,367  \n",
       "2    Venture - Series Unknown                      1        296  \n",
       "3                    Series F                      1         23  \n",
       "4            Secondary Market                     13        205  \n",
       "..                        ...                    ...        ...  \n",
       "386                  Series A                      0    165,285  \n",
       "387                  Series C                      0    172,184  \n",
       "388            Debt Financing                      0    201,832  \n",
       "389            Private Equity                      2    325,732  \n",
       "390           Post-IPO Equity                      1  1,836,960  \n",
       "\n",
       "[1391 rows x 14 columns]"
      ]
     },
     "execution_count": 88,
     "metadata": {},
     "output_type": "execute_result"
    }
   ],
   "source": [
    "all_df"
   ]
  },
  {
   "cell_type": "markdown",
   "id": "f0761b49",
   "metadata": {},
   "source": [
    "#### Remove all rows with any blank columns"
   ]
  },
  {
   "cell_type": "code",
   "execution_count": 89,
   "id": "7bb9a974",
   "metadata": {},
   "outputs": [],
   "source": [
    "all_df = all_df.replace('—',np.nan).dropna(axis = 0, how = 'any')"
   ]
  },
  {
   "cell_type": "markdown",
   "id": "c8d56c5c",
   "metadata": {},
   "source": [
    "**Remove all rows where Last_Funding_Type is \"Venture - Series Unknown\"**"
   ]
  },
  {
   "cell_type": "code",
   "execution_count": 90,
   "id": "f127bad4",
   "metadata": {},
   "outputs": [],
   "source": [
    "all_df = all_df[all_df[\"Last_Funding_Type\"] != \"Venture - Series Unknown\"]"
   ]
  },
  {
   "cell_type": "markdown",
   "id": "5a92c36b",
   "metadata": {},
   "source": [
    "**Remove all rows where Last_Funding_Type is \"Undisclosed\"**"
   ]
  },
  {
   "cell_type": "code",
   "execution_count": 91,
   "id": "48f9c4b5",
   "metadata": {},
   "outputs": [],
   "source": [
    "all_df = all_df[all_df[\"Last_Funding_Type\"] != \"Undisclosed\"]"
   ]
  },
  {
   "cell_type": "markdown",
   "id": "10c7a721",
   "metadata": {},
   "source": [
    "**Convert currencies to USD**"
   ]
  },
  {
   "cell_type": "code",
   "execution_count": 92,
   "id": "5ba074d7",
   "metadata": {},
   "outputs": [],
   "source": [
    "def getRates(currencyMap):\n",
    "    out = {}\n",
    "    c = CurrencyRates()\n",
    "    for currency in currencyMap.values():\n",
    "        out[currency] = float(c.get_rate(currency, 'USD'))\n",
    "    return out"
   ]
  },
  {
   "cell_type": "code",
   "execution_count": 93,
   "id": "11cdcac8",
   "metadata": {},
   "outputs": [],
   "source": [
    "currency = {\n",
    "    \"$\" : \"USD\",\n",
    "    \"£\" : \"GBP\",\n",
    "    \"C\" : \"CNY\",\n",
    "    \"¥\" : \"JPY\",\n",
    "    \"₩\" : \"KRW\",\n",
    "    \"€\" : \"EUR\",\n",
    "    \"₹\" : \"INR\",\n",
    "    \"A\" : \"AUD\",\n",
    "    \"H\" : \"HKD\",\n",
    "    \"S\" : \"SGD\",\n",
    "    \"I\" : \"IDR\"\n",
    "}"
   ]
  },
  {
   "cell_type": "code",
   "execution_count": 94,
   "id": "2259166e",
   "metadata": {},
   "outputs": [],
   "source": [
    "rates = getRates(currency)"
   ]
  },
  {
   "cell_type": "code",
   "execution_count": 95,
   "id": "978d93a8",
   "metadata": {},
   "outputs": [
    {
     "data": {
      "text/plain": [
       "{'USD': 1.0,\n",
       " 'GBP': 1.256137674595986,\n",
       " 'CNY': 0.15178352846301177,\n",
       " 'JPY': 0.007692869133639881,\n",
       " 'KRW': 0.0007944464125543638,\n",
       " 'EUR': 1.054,\n",
       " 'INR': 0.0130707606835487,\n",
       " 'AUD': 0.7170555820123818,\n",
       " 'HKD': 0.1274439863124675,\n",
       " 'SGD': 0.7246476452389138,\n",
       " 'IDR': 6.888204570526327e-05}"
      ]
     },
     "execution_count": 95,
     "metadata": {},
     "output_type": "execute_result"
    }
   ],
   "source": [
    "rates"
   ]
  },
  {
   "cell_type": "code",
   "execution_count": 96,
   "id": "3a0b17a2",
   "metadata": {},
   "outputs": [],
   "source": [
    "for index, row in all_df.iterrows():\n",
    "    for col in [\"Total_Equity_Funding\", \"Valuation\", \"Last_Funding_Amount\", \"CB_Rank\"]:\n",
    "        if type(row[col]) == str:\n",
    "            if col == \"CB_Rank\":\n",
    "                raw = \"\".join(re.sub(\"[^0-9]\", \"\", (row[col])).split())\n",
    "                all_df.at[index, col]= int(raw)\n",
    "            else:\n",
    "                curSign = (row[col][0]) \n",
    "                rate = rates[currency[curSign]]\n",
    "                raw = \"\".join(re.sub(\"[^0-9]\", \"\", (row[col])).split())\n",
    "                all_df.at[index, col]= float(raw) * rate"
   ]
  },
  {
   "cell_type": "code",
   "execution_count": 97,
   "id": "89d67d29",
   "metadata": {},
   "outputs": [
    {
     "data": {
      "text/html": [
       "<div>\n",
       "<style scoped>\n",
       "    .dataframe tbody tr th:only-of-type {\n",
       "        vertical-align: middle;\n",
       "    }\n",
       "\n",
       "    .dataframe tbody tr th {\n",
       "        vertical-align: top;\n",
       "    }\n",
       "\n",
       "    .dataframe thead th {\n",
       "        text-align: right;\n",
       "    }\n",
       "</style>\n",
       "<table border=\"1\" class=\"dataframe\">\n",
       "  <thead>\n",
       "    <tr style=\"text-align: right;\">\n",
       "      <th></th>\n",
       "      <th>Name</th>\n",
       "      <th>Headquarters_Location</th>\n",
       "      <th>Total_Equity_Funding</th>\n",
       "      <th>Valuation</th>\n",
       "      <th>Valuation_Date</th>\n",
       "      <th>Industries</th>\n",
       "      <th>Top_5_Investors</th>\n",
       "      <th>Founded_Date</th>\n",
       "      <th>Funding_Status</th>\n",
       "      <th>Last_Funding_Date</th>\n",
       "      <th>Last_Funding_Amount</th>\n",
       "      <th>Last_Funding_Type</th>\n",
       "      <th>Number_Of_Acquisitions</th>\n",
       "      <th>CB_Rank</th>\n",
       "    </tr>\n",
       "  </thead>\n",
       "  <tbody>\n",
       "    <tr>\n",
       "      <th>10</th>\n",
       "      <td>NIO</td>\n",
       "      <td>Shanghai, Shanghai, China</td>\n",
       "      <td>3497000000.0</td>\n",
       "      <td>38000000000.0</td>\n",
       "      <td>12-Sep-18</td>\n",
       "      <td>Automotive, Autonomous Vehicles, Electric Vehi...</td>\n",
       "      <td>Tencent, Lenovo, Temasek Holdings, Hillhouse C...</td>\n",
       "      <td>Nov-14</td>\n",
       "      <td>IPO</td>\n",
       "      <td>29-Apr-20</td>\n",
       "      <td>1600000000.0</td>\n",
       "      <td>Post-IPO Equity</td>\n",
       "      <td>0</td>\n",
       "      <td>2464</td>\n",
       "    </tr>\n",
       "  </tbody>\n",
       "</table>\n",
       "</div>"
      ],
      "text/plain": [
       "   Name      Headquarters_Location Total_Equity_Funding      Valuation  \\\n",
       "10  NIO  Shanghai, Shanghai, China         3497000000.0  38000000000.0   \n",
       "\n",
       "   Valuation_Date                                         Industries  \\\n",
       "10      12-Sep-18  Automotive, Autonomous Vehicles, Electric Vehi...   \n",
       "\n",
       "                                      Top_5_Investors Founded_Date  \\\n",
       "10  Tencent, Lenovo, Temasek Holdings, Hillhouse C...       Nov-14   \n",
       "\n",
       "   Funding_Status Last_Funding_Date Last_Funding_Amount Last_Funding_Type  \\\n",
       "10            IPO         29-Apr-20        1600000000.0   Post-IPO Equity   \n",
       "\n",
       "   Number_Of_Acquisitions CB_Rank  \n",
       "10                      0    2464  "
      ]
     },
     "execution_count": 97,
     "metadata": {},
     "output_type": "execute_result"
    }
   ],
   "source": [
    "all_df[all_df[\"Name\"] == \"NIO\"]"
   ]
  },
  {
   "cell_type": "code",
   "execution_count": 98,
   "id": "dba5c6b4",
   "metadata": {},
   "outputs": [
    {
     "data": {
      "text/html": [
       "<div>\n",
       "<style scoped>\n",
       "    .dataframe tbody tr th:only-of-type {\n",
       "        vertical-align: middle;\n",
       "    }\n",
       "\n",
       "    .dataframe tbody tr th {\n",
       "        vertical-align: top;\n",
       "    }\n",
       "\n",
       "    .dataframe thead th {\n",
       "        text-align: right;\n",
       "    }\n",
       "</style>\n",
       "<table border=\"1\" class=\"dataframe\">\n",
       "  <thead>\n",
       "    <tr style=\"text-align: right;\">\n",
       "      <th></th>\n",
       "      <th>Name</th>\n",
       "      <th>Headquarters_Location</th>\n",
       "      <th>Total_Equity_Funding</th>\n",
       "      <th>Valuation</th>\n",
       "      <th>Valuation_Date</th>\n",
       "      <th>Industries</th>\n",
       "      <th>Top_5_Investors</th>\n",
       "      <th>Founded_Date</th>\n",
       "      <th>Funding_Status</th>\n",
       "      <th>Last_Funding_Date</th>\n",
       "      <th>Last_Funding_Amount</th>\n",
       "      <th>Last_Funding_Type</th>\n",
       "      <th>Number_Of_Acquisitions</th>\n",
       "      <th>CB_Rank</th>\n",
       "    </tr>\n",
       "  </thead>\n",
       "  <tbody>\n",
       "    <tr>\n",
       "      <th>0</th>\n",
       "      <td>ByteDance</td>\n",
       "      <td>Shanghai, Shanghai, China</td>\n",
       "      <td>8105000000.0</td>\n",
       "      <td>180000000000.0</td>\n",
       "      <td>11-Dec-20</td>\n",
       "      <td>Content, Data Mining, Internet, Social Media</td>\n",
       "      <td>Sequoia Capital, Goldman Sachs, Morgan Stanley...</td>\n",
       "      <td>Mar-12</td>\n",
       "      <td>Private Equity</td>\n",
       "      <td>11-Dec-20</td>\n",
       "      <td>2000000000.0</td>\n",
       "      <td>Private Equity</td>\n",
       "      <td>12</td>\n",
       "      <td>949</td>\n",
       "    </tr>\n",
       "    <tr>\n",
       "      <th>3</th>\n",
       "      <td>Shein</td>\n",
       "      <td>Nanjing, Jiangsu, China</td>\n",
       "      <td>2053426604.0</td>\n",
       "      <td>100000000000.0</td>\n",
       "      <td>4-Apr-22</td>\n",
       "      <td>E-Commerce, Fashion, Marketplace, Textiles</td>\n",
       "      <td>General Atlantic, Tiger Global Management, IDG...</td>\n",
       "      <td>2008</td>\n",
       "      <td>Late Stage Venture</td>\n",
       "      <td>4-Apr-22</td>\n",
       "      <td>1500000000.0</td>\n",
       "      <td>Series F</td>\n",
       "      <td>1</td>\n",
       "      <td>23</td>\n",
       "    </tr>\n",
       "    <tr>\n",
       "      <th>7</th>\n",
       "      <td>Checkout.com</td>\n",
       "      <td>London, England, United Kingdom</td>\n",
       "      <td>1830000000.0</td>\n",
       "      <td>40000000000.0</td>\n",
       "      <td>12-Jan-22</td>\n",
       "      <td>E-Commerce, FinTech, Payments, Transaction Pro...</td>\n",
       "      <td>Insight Partners, Tiger Global Management, Coa...</td>\n",
       "      <td>2012</td>\n",
       "      <td>Late Stage Venture</td>\n",
       "      <td>12-Jan-22</td>\n",
       "      <td>1000000000.0</td>\n",
       "      <td>Series D</td>\n",
       "      <td>3</td>\n",
       "      <td>5675</td>\n",
       "    </tr>\n",
       "    <tr>\n",
       "      <th>10</th>\n",
       "      <td>Databricks</td>\n",
       "      <td>San Francisco, California, United States</td>\n",
       "      <td>3497000000.0</td>\n",
       "      <td>38000000000.0</td>\n",
       "      <td>31-Aug-21</td>\n",
       "      <td>Analytics, Artificial Intelligence, Informatio...</td>\n",
       "      <td>Gaingels, Andreessen Horowitz, Microsoft, Insi...</td>\n",
       "      <td>2013</td>\n",
       "      <td>Late Stage Venture</td>\n",
       "      <td>31-Aug-21</td>\n",
       "      <td>1600000000.0</td>\n",
       "      <td>Series H</td>\n",
       "      <td>2</td>\n",
       "      <td>2464</td>\n",
       "    </tr>\n",
       "    <tr>\n",
       "      <th>11</th>\n",
       "      <td>Revolut</td>\n",
       "      <td>London, England, United Kingdom</td>\n",
       "      <td>1705469790.0</td>\n",
       "      <td>33000000000.0</td>\n",
       "      <td>15-Jul-21</td>\n",
       "      <td>Banking, Financial Services, FinTech, Mobile P...</td>\n",
       "      <td>Seedcamp, Tiger Global Management, SoftBank Vi...</td>\n",
       "      <td>2015</td>\n",
       "      <td>Late Stage Venture</td>\n",
       "      <td>11-Aug-21</td>\n",
       "      <td>5470000.0</td>\n",
       "      <td>Secondary Market</td>\n",
       "      <td>1</td>\n",
       "      <td>968</td>\n",
       "    </tr>\n",
       "  </tbody>\n",
       "</table>\n",
       "</div>"
      ],
      "text/plain": [
       "            Name                     Headquarters_Location  \\\n",
       "0      ByteDance                 Shanghai, Shanghai, China   \n",
       "3          Shein                   Nanjing, Jiangsu, China   \n",
       "7   Checkout.com           London, England, United Kingdom   \n",
       "10    Databricks  San Francisco, California, United States   \n",
       "11       Revolut           London, England, United Kingdom   \n",
       "\n",
       "   Total_Equity_Funding       Valuation Valuation_Date  \\\n",
       "0          8105000000.0  180000000000.0      11-Dec-20   \n",
       "3          2053426604.0  100000000000.0       4-Apr-22   \n",
       "7          1830000000.0   40000000000.0      12-Jan-22   \n",
       "10         3497000000.0   38000000000.0      31-Aug-21   \n",
       "11         1705469790.0   33000000000.0      15-Jul-21   \n",
       "\n",
       "                                           Industries  \\\n",
       "0        Content, Data Mining, Internet, Social Media   \n",
       "3          E-Commerce, Fashion, Marketplace, Textiles   \n",
       "7   E-Commerce, FinTech, Payments, Transaction Pro...   \n",
       "10  Analytics, Artificial Intelligence, Informatio...   \n",
       "11  Banking, Financial Services, FinTech, Mobile P...   \n",
       "\n",
       "                                      Top_5_Investors Founded_Date  \\\n",
       "0   Sequoia Capital, Goldman Sachs, Morgan Stanley...       Mar-12   \n",
       "3   General Atlantic, Tiger Global Management, IDG...         2008   \n",
       "7   Insight Partners, Tiger Global Management, Coa...         2012   \n",
       "10  Gaingels, Andreessen Horowitz, Microsoft, Insi...         2013   \n",
       "11  Seedcamp, Tiger Global Management, SoftBank Vi...         2015   \n",
       "\n",
       "        Funding_Status Last_Funding_Date Last_Funding_Amount  \\\n",
       "0       Private Equity         11-Dec-20        2000000000.0   \n",
       "3   Late Stage Venture          4-Apr-22        1500000000.0   \n",
       "7   Late Stage Venture         12-Jan-22        1000000000.0   \n",
       "10  Late Stage Venture         31-Aug-21        1600000000.0   \n",
       "11  Late Stage Venture         11-Aug-21           5470000.0   \n",
       "\n",
       "   Last_Funding_Type Number_Of_Acquisitions CB_Rank  \n",
       "0     Private Equity                     12     949  \n",
       "3           Series F                      1      23  \n",
       "7           Series D                      3    5675  \n",
       "10          Series H                      2    2464  \n",
       "11  Secondary Market                      1     968  "
      ]
     },
     "execution_count": 98,
     "metadata": {},
     "output_type": "execute_result"
    }
   ],
   "source": [
    "all_df.head()"
   ]
  },
  {
   "cell_type": "markdown",
   "id": "4001c2c8",
   "metadata": {},
   "source": [
    "#### Standardize data types for each column"
   ]
  },
  {
   "cell_type": "markdown",
   "id": "44a93099",
   "metadata": {},
   "source": [
    "Independent (predictor) variables\n",
    "* **Total_Equity_Funding** numerical\n",
    "* **Valuation** numerical\n",
    "* **Valuation_Date** datetime\n",
    "* **Industries** categorical\n",
    "* **Top_5_Investors** categorical\n",
    "* **Founded_Date** datetime\n",
    "\n",
    "* **Last_Funding_Date** datetime\n",
    "* **Last_Funding_Amount** numerical\n",
    "* **Number_Of_Acquisitions** numerical\n",
    "* **CB_Rank** numerical\n",
    "\n",
    "Possible dependent variable\n",
    "* **Last_Funding_Type** categorical\n",
    "* **Funding Status** categorical"
   ]
  },
  {
   "cell_type": "code",
   "execution_count": 99,
   "id": "4197fc95",
   "metadata": {},
   "outputs": [],
   "source": [
    "all_df[\"Headquarters_Location\"] = all_df[\"Headquarters_Location\"].astype('category')\n",
    "\n",
    "all_df[\"Total_Equity_Funding\"] = all_df[\"Total_Equity_Funding\"].astype('float')\n",
    "\n",
    "all_df[\"Valuation\"] = all_df[\"Valuation\"].astype('float')\n",
    "\n",
    "all_df[\"Valuation_Date\"] = all_df[\"Valuation_Date\"].astype('datetime64')\n",
    "\n",
    "all_df[\"Industries\"] = all_df[\"Industries\"].astype('category')\n",
    "\n",
    "all_df[\"Top_5_Investors\"] = all_df[\"Top_5_Investors\"].astype('category')\n",
    "\n",
    "# Causes error on conversion\n",
    "#all_df[\"Founded_Date\"] = all_df[\"Founded_Date\"].astype('datetime64')\n",
    "\n",
    "all_df[\"Funding_Status\"] = all_df[\"Funding_Status\"].astype('category')\n",
    "\n",
    "all_df[\"Last_Funding_Date\"] = all_df[\"Last_Funding_Date\"].astype('datetime64')\n",
    "\n",
    "all_df[\"Last_Funding_Amount\"] = all_df[\"Last_Funding_Amount\"].astype('float')\n",
    "\n",
    "all_df[\"Last_Funding_Type\"] = all_df[\"Last_Funding_Type\"].astype('category')\n",
    "\n",
    "all_df[\"Number_Of_Acquisitions\"] = all_df[\"Number_Of_Acquisitions\"].astype('int')\n",
    "\n",
    "all_df[\"CB_Rank\"] = all_df[\"CB_Rank\"].astype('int')"
   ]
  },
  {
   "cell_type": "code",
   "execution_count": 100,
   "id": "e39aeb3d",
   "metadata": {},
   "outputs": [
    {
     "data": {
      "text/plain": [
       "Name                              object\n",
       "Headquarters_Location           category\n",
       "Total_Equity_Funding             float64\n",
       "Valuation                        float64\n",
       "Valuation_Date            datetime64[ns]\n",
       "Industries                      category\n",
       "Top_5_Investors                 category\n",
       "Founded_Date                      object\n",
       "Funding_Status                  category\n",
       "Last_Funding_Date         datetime64[ns]\n",
       "Last_Funding_Amount              float64\n",
       "Last_Funding_Type               category\n",
       "Number_Of_Acquisitions             int64\n",
       "CB_Rank                            int64\n",
       "dtype: object"
      ]
     },
     "execution_count": 100,
     "metadata": {},
     "output_type": "execute_result"
    }
   ],
   "source": [
    "all_df.dtypes"
   ]
  },
  {
   "cell_type": "markdown",
   "id": "e988afe8",
   "metadata": {},
   "source": [
    "We will omit Founded_Date in our models because it is unable to converted. We also don't expect it to be highly significant."
   ]
  },
  {
   "cell_type": "markdown",
   "id": "a1ac0f87",
   "metadata": {},
   "source": [
    "# Empirical application"
   ]
  },
  {
   "cell_type": "markdown",
   "id": "3b1e122c",
   "metadata": {},
   "source": [
    "## 1. Create train and test datasets"
   ]
  },
  {
   "cell_type": "code",
   "execution_count": 101,
   "id": "c25af140",
   "metadata": {},
   "outputs": [],
   "source": [
    "train, test = train_test_split(all_df, test_size=0.2)"
   ]
  },
  {
   "cell_type": "code",
   "execution_count": 102,
   "id": "8159340c",
   "metadata": {},
   "outputs": [
    {
     "data": {
      "text/plain": [
       "(762, 191)"
      ]
     },
     "execution_count": 102,
     "metadata": {},
     "output_type": "execute_result"
    }
   ],
   "source": [
    "len(train), len(test)"
   ]
  },
  {
   "cell_type": "code",
   "execution_count": 103,
   "id": "22575b36",
   "metadata": {},
   "outputs": [],
   "source": [
    "X_tr = train[[\"Total_Equity_Funding\", \"Valuation\", \"Last_Funding_Amount\", \"Number_Of_Acquisitions\", \"CB_Rank\"]]\n",
    "y_tr = train[[\"Funding_Status\"]]"
   ]
  },
  {
   "cell_type": "code",
   "execution_count": 104,
   "id": "f42e765b",
   "metadata": {},
   "outputs": [],
   "source": [
    "X_test = test[[\"Total_Equity_Funding\", \"Valuation\", \"Last_Funding_Amount\", \"Number_Of_Acquisitions\", \"CB_Rank\"]]\n",
    "y_test = test[[\"Funding_Status\"]]"
   ]
  },
  {
   "cell_type": "markdown",
   "id": "3b05eac3",
   "metadata": {},
   "source": [
    "## 2. Analyze predictor variables"
   ]
  },
  {
   "cell_type": "markdown",
   "id": "0d124e89",
   "metadata": {},
   "source": [
    "**Look for multicollinearity**"
   ]
  },
  {
   "cell_type": "code",
   "execution_count": 105,
   "id": "0faaf04a",
   "metadata": {},
   "outputs": [
    {
     "data": {
      "text/html": [
       "<style type=\"text/css\">\n",
       "#T_fbca5_row0_col0, #T_fbca5_row1_col1, #T_fbca5_row2_col2, #T_fbca5_row3_col3, #T_fbca5_row4_col4 {\n",
       "  background-color: #b40426;\n",
       "  color: #f1f1f1;\n",
       "}\n",
       "#T_fbca5_row0_col1 {\n",
       "  background-color: #f5c4ac;\n",
       "  color: #000000;\n",
       "}\n",
       "#T_fbca5_row0_col2 {\n",
       "  background-color: #f4987a;\n",
       "  color: #000000;\n",
       "}\n",
       "#T_fbca5_row0_col3, #T_fbca5_row3_col1 {\n",
       "  background-color: #93b5fe;\n",
       "  color: #000000;\n",
       "}\n",
       "#T_fbca5_row0_col4 {\n",
       "  background-color: #455cce;\n",
       "  color: #f1f1f1;\n",
       "}\n",
       "#T_fbca5_row1_col0 {\n",
       "  background-color: #f3c8b2;\n",
       "  color: #000000;\n",
       "}\n",
       "#T_fbca5_row1_col2 {\n",
       "  background-color: #ead4c8;\n",
       "  color: #000000;\n",
       "}\n",
       "#T_fbca5_row1_col3 {\n",
       "  background-color: #92b4fe;\n",
       "  color: #000000;\n",
       "}\n",
       "#T_fbca5_row1_col4, #T_fbca5_row4_col0, #T_fbca5_row4_col1, #T_fbca5_row4_col2, #T_fbca5_row4_col3 {\n",
       "  background-color: #3b4cc0;\n",
       "  color: #f1f1f1;\n",
       "}\n",
       "#T_fbca5_row2_col0 {\n",
       "  background-color: #f39778;\n",
       "  color: #000000;\n",
       "}\n",
       "#T_fbca5_row2_col1 {\n",
       "  background-color: #efcfbf;\n",
       "  color: #000000;\n",
       "}\n",
       "#T_fbca5_row2_col3 {\n",
       "  background-color: #7597f6;\n",
       "  color: #f1f1f1;\n",
       "}\n",
       "#T_fbca5_row2_col4 {\n",
       "  background-color: #4b64d5;\n",
       "  color: #f1f1f1;\n",
       "}\n",
       "#T_fbca5_row3_col0 {\n",
       "  background-color: #8badfd;\n",
       "  color: #000000;\n",
       "}\n",
       "#T_fbca5_row3_col2 {\n",
       "  background-color: #6485ec;\n",
       "  color: #f1f1f1;\n",
       "}\n",
       "#T_fbca5_row3_col4 {\n",
       "  background-color: #3c4ec2;\n",
       "  color: #f1f1f1;\n",
       "}\n",
       "</style>\n",
       "<table id=\"T_fbca5_\">\n",
       "  <thead>\n",
       "    <tr>\n",
       "      <th class=\"blank level0\" >&nbsp;</th>\n",
       "      <th class=\"col_heading level0 col0\" >Total_Equity_Funding</th>\n",
       "      <th class=\"col_heading level0 col1\" >Valuation</th>\n",
       "      <th class=\"col_heading level0 col2\" >Last_Funding_Amount</th>\n",
       "      <th class=\"col_heading level0 col3\" >Number_Of_Acquisitions</th>\n",
       "      <th class=\"col_heading level0 col4\" >CB_Rank</th>\n",
       "    </tr>\n",
       "  </thead>\n",
       "  <tbody>\n",
       "    <tr>\n",
       "      <th id=\"T_fbca5_level0_row0\" class=\"row_heading level0 row0\" >Total_Equity_Funding</th>\n",
       "      <td id=\"T_fbca5_row0_col0\" class=\"data row0 col0\" >1.000000</td>\n",
       "      <td id=\"T_fbca5_row0_col1\" class=\"data row0 col1\" >0.591349</td>\n",
       "      <td id=\"T_fbca5_row0_col2\" class=\"data row0 col2\" >0.744574</td>\n",
       "      <td id=\"T_fbca5_row0_col3\" class=\"data row0 col3\" >0.205746</td>\n",
       "      <td id=\"T_fbca5_row0_col4\" class=\"data row0 col4\" >-0.050735</td>\n",
       "    </tr>\n",
       "    <tr>\n",
       "      <th id=\"T_fbca5_level0_row1\" class=\"row_heading level0 row1\" >Valuation</th>\n",
       "      <td id=\"T_fbca5_row1_col0\" class=\"data row1 col0\" >0.591349</td>\n",
       "      <td id=\"T_fbca5_row1_col1\" class=\"data row1 col1\" >1.000000</td>\n",
       "      <td id=\"T_fbca5_row1_col2\" class=\"data row1 col2\" >0.540979</td>\n",
       "      <td id=\"T_fbca5_row1_col3\" class=\"data row1 col3\" >0.201516</td>\n",
       "      <td id=\"T_fbca5_row1_col4\" class=\"data row1 col4\" >-0.092782</td>\n",
       "    </tr>\n",
       "    <tr>\n",
       "      <th id=\"T_fbca5_level0_row2\" class=\"row_heading level0 row2\" >Last_Funding_Amount</th>\n",
       "      <td id=\"T_fbca5_row2_col0\" class=\"data row2 col0\" >0.744574</td>\n",
       "      <td id=\"T_fbca5_row2_col1\" class=\"data row2 col1\" >0.540979</td>\n",
       "      <td id=\"T_fbca5_row2_col2\" class=\"data row2 col2\" >1.000000</td>\n",
       "      <td id=\"T_fbca5_row2_col3\" class=\"data row2 col3\" >0.109666</td>\n",
       "      <td id=\"T_fbca5_row2_col4\" class=\"data row2 col4\" >-0.030848</td>\n",
       "    </tr>\n",
       "    <tr>\n",
       "      <th id=\"T_fbca5_level0_row3\" class=\"row_heading level0 row3\" >Number_Of_Acquisitions</th>\n",
       "      <td id=\"T_fbca5_row3_col0\" class=\"data row3 col0\" >0.205746</td>\n",
       "      <td id=\"T_fbca5_row3_col1\" class=\"data row3 col1\" >0.201516</td>\n",
       "      <td id=\"T_fbca5_row3_col2\" class=\"data row3 col2\" >0.109666</td>\n",
       "      <td id=\"T_fbca5_row3_col3\" class=\"data row3 col3\" >1.000000</td>\n",
       "      <td id=\"T_fbca5_row3_col4\" class=\"data row3 col4\" >-0.086002</td>\n",
       "    </tr>\n",
       "    <tr>\n",
       "      <th id=\"T_fbca5_level0_row4\" class=\"row_heading level0 row4\" >CB_Rank</th>\n",
       "      <td id=\"T_fbca5_row4_col0\" class=\"data row4 col0\" >-0.050735</td>\n",
       "      <td id=\"T_fbca5_row4_col1\" class=\"data row4 col1\" >-0.092782</td>\n",
       "      <td id=\"T_fbca5_row4_col2\" class=\"data row4 col2\" >-0.030848</td>\n",
       "      <td id=\"T_fbca5_row4_col3\" class=\"data row4 col3\" >-0.086002</td>\n",
       "      <td id=\"T_fbca5_row4_col4\" class=\"data row4 col4\" >1.000000</td>\n",
       "    </tr>\n",
       "  </tbody>\n",
       "</table>\n"
      ],
      "text/plain": [
       "<pandas.io.formats.style.Styler at 0x1208c58e0>"
      ]
     },
     "execution_count": 105,
     "metadata": {},
     "output_type": "execute_result"
    }
   ],
   "source": [
    "X_tr.corr().style.background_gradient(cmap='coolwarm')"
   ]
  },
  {
   "cell_type": "markdown",
   "id": "ce67fd66",
   "metadata": {},
   "source": [
    "There is no significant multicollinearity"
   ]
  },
  {
   "cell_type": "markdown",
   "id": "b396e28d",
   "metadata": {},
   "source": [
    "Choose to not drop any predictor variables"
   ]
  },
  {
   "cell_type": "markdown",
   "id": "483b334b",
   "metadata": {},
   "source": [
    "## 3. Create models"
   ]
  },
  {
   "cell_type": "markdown",
   "id": "d662bb50",
   "metadata": {},
   "source": [
    "**Logistic Regression**\n",
    "\n",
    "We thought the classification model was more appropriate than a regression model since we are looking for a qualitative outcome in our dependent variable: funding_status. The goal of the logistic regression was to determine what stage a unicorn company should be in: (Seed, Early Stage Venture, Late Stage Venture, Mergers & Acquisitions, Private Equity, and Initial Public Offering) based on the predictor variables (Total_Equity_Funding, Valuation, Valuation_Date, Industries, Top_5_Investors, Founded_Date, Last_Funding_Date, Last_Funding_Amount, Number_Of_Aquisitions, and CB_Rank). By using classification, we would be able to determine if a unicorn was overvalued or undervalued. For example, if the funding status for a unicorn is currently classified as an Early Stage Venture, but our model determined it should be classified as Late Stage Venture, then we would say that it is undervalued. This model can be used by venture capitalists to determine which companies have the high potential returns and low risk. It is worth noting that this was our least accurate model, as it was consistently beat out in accuracy (measured with score() function) by both the SVM model and random forests model. "
   ]
  },
  {
   "cell_type": "code",
   "execution_count": 106,
   "id": "63cd8cbe",
   "metadata": {},
   "outputs": [
    {
     "name": "stderr",
     "output_type": "stream",
     "text": [
      "/Users/rohankatakam/Library/Python/3.8/lib/python/site-packages/sklearn/utils/validation.py:993: DataConversionWarning: A column-vector y was passed when a 1d array was expected. Please change the shape of y to (n_samples, ), for example using ravel().\n",
      "  y = column_or_1d(y, warn=True)\n",
      "/Users/rohankatakam/Library/Python/3.8/lib/python/site-packages/sklearn/linear_model/_logistic.py:814: ConvergenceWarning: lbfgs failed to converge (status=1):\n",
      "STOP: TOTAL NO. of ITERATIONS REACHED LIMIT.\n",
      "\n",
      "Increase the number of iterations (max_iter) or scale the data as shown in:\n",
      "    https://scikit-learn.org/stable/modules/preprocessing.html\n",
      "Please also refer to the documentation for alternative solver options:\n",
      "    https://scikit-learn.org/stable/modules/linear_model.html#logistic-regression\n",
      "  n_iter_i = _check_optimize_result(\n"
     ]
    }
   ],
   "source": [
    "LR = LogisticRegression(random_state=0, solver='lbfgs', multi_class='multinomial').fit(X_tr, y_tr)"
   ]
  },
  {
   "cell_type": "markdown",
   "id": "cd3bcac5",
   "metadata": {},
   "source": [
    "**Support Vector Machine (SVM)**\n",
    "\n",
    "Another regression method we used is the Support Vector Machine (SVM) model. SVM is a supervised machine learning model that uses classification algorithms for two-group classification problems. Compared to other methods, there are two main advantages of using SVM: higher speed and better performance given a limited number of samples (in the thousands). Given these attributes, SVM is often a very fitting method for classification problems, which is why we chose to use this method. We found that this method consistently tested more accurately than the Logistic Regression, but not as accurate as the Random Forests model (accuracy measured with score() function). Overall, we made sure to weigh this model's classification heavily when interpreting our results, but it did not influence our interpretation as much as the Random Forests Model."
   ]
  },
  {
   "cell_type": "code",
   "execution_count": 107,
   "id": "2213dcc2",
   "metadata": {},
   "outputs": [
    {
     "name": "stderr",
     "output_type": "stream",
     "text": [
      "/Users/rohankatakam/Library/Python/3.8/lib/python/site-packages/sklearn/utils/validation.py:993: DataConversionWarning: A column-vector y was passed when a 1d array was expected. Please change the shape of y to (n_samples, ), for example using ravel().\n",
      "  y = column_or_1d(y, warn=True)\n"
     ]
    }
   ],
   "source": [
    "SVM = svm.SVC(decision_function_shape=\"ovo\").fit(X_tr, y_tr)"
   ]
  },
  {
   "cell_type": "markdown",
   "id": "3d2c4d88",
   "metadata": {},
   "source": [
    "**Random Forest Classifier**\n",
    "\n",
    "Random forests, bagging, and boosting are methods that grow multiple trees that are combined for a single prediction.  It’s important to note that the sample average of correlated observations has a higher variance than uncorrelated observations.  With that being said, random forests provide a lower variance when we take the average than bagging by decorrelating the trees.  Random forests use a random selection of predictors chosen from a full set of predictors, which is why our random forest model produces different accuracy using the score function.  Using a small number of predictors when there are large amounts of correlated predictors is helpful, which isn’t the case in our data.  Overall, random forests solve the problem of averaging correlated quantities by splitting with a subset of predictors.  This won’t consider strong predictors as much and gives more say to other predictors, which reduces variance and increases reliability of the model."
   ]
  },
  {
   "cell_type": "code",
   "execution_count": 108,
   "id": "6455100a",
   "metadata": {},
   "outputs": [
    {
     "name": "stderr",
     "output_type": "stream",
     "text": [
      "/var/folders/jn/9jrxv2254hx_4qfsnyskzg4r0000gn/T/ipykernel_22403/3519194696.py:1: DataConversionWarning: A column-vector y was passed when a 1d array was expected. Please change the shape of y to (n_samples,), for example using ravel().\n",
      "  RF = RandomForestClassifier(n_estimators=1000, max_depth=10, random_state=0).fit(X_tr, y_tr)\n"
     ]
    }
   ],
   "source": [
    "RF = RandomForestClassifier(n_estimators=1000, max_depth=10, random_state=0).fit(X_tr, y_tr)"
   ]
  },
  {
   "cell_type": "markdown",
   "id": "feec8fa5",
   "metadata": {},
   "source": [
    "## 4. Determine the most effective model"
   ]
  },
  {
   "cell_type": "markdown",
   "id": "4e1e681b",
   "metadata": {},
   "source": [
    "**Add classification to columns**"
   ]
  },
  {
   "cell_type": "code",
   "execution_count": 109,
   "id": "a7254ae1",
   "metadata": {},
   "outputs": [],
   "source": [
    "test[\"LR_Classification\"] = LR.predict(X_test).tolist()\n",
    "test[\"SVM_Classification\"] = SVM.predict(X_test).tolist()\n",
    "test[\"RF_Classification\"] = RF.predict(X_test).tolist()"
   ]
  },
  {
   "cell_type": "markdown",
   "id": "f6b03f8c",
   "metadata": {},
   "source": [
    "#### Ranking models (strongest to weakest)"
   ]
  },
  {
   "cell_type": "markdown",
   "id": "135aa9a3",
   "metadata": {},
   "source": [
    "**1. Random Forest**"
   ]
  },
  {
   "cell_type": "markdown",
   "id": "401d9254",
   "metadata": {},
   "source": [
    "Score"
   ]
  },
  {
   "cell_type": "code",
   "execution_count": 110,
   "id": "0241a263",
   "metadata": {},
   "outputs": [
    {
     "data": {
      "text/plain": [
       "0.5445"
      ]
     },
     "execution_count": 110,
     "metadata": {},
     "output_type": "execute_result"
    }
   ],
   "source": [
    "round(RF.score(X_test, y_test), 4)"
   ]
  },
  {
   "cell_type": "markdown",
   "id": "1a9093d9",
   "metadata": {},
   "source": [
    "Unique values"
   ]
  },
  {
   "cell_type": "code",
   "execution_count": 111,
   "id": "975ac763",
   "metadata": {},
   "outputs": [
    {
     "data": {
      "text/plain": [
       "array(['Private Equity', 'Late Stage Venture', 'IPO', 'M&A',\n",
       "       'Early Stage Venture'], dtype=object)"
      ]
     },
     "execution_count": 111,
     "metadata": {},
     "output_type": "execute_result"
    }
   ],
   "source": [
    "test[\"RF_Classification\"].unique()"
   ]
  },
  {
   "cell_type": "markdown",
   "id": "3c417256",
   "metadata": {},
   "source": [
    "Conclusion"
   ]
  },
  {
   "cell_type": "markdown",
   "id": "970cb5ff",
   "metadata": {},
   "source": [
    "* Highest score, but not significantly larger than SVM\n",
    "* Classifies using all categories. This is by far the least narrow and the most effective model so far."
   ]
  },
  {
   "cell_type": "markdown",
   "id": "ebd40fe4",
   "metadata": {},
   "source": [
    "**2. SVM**"
   ]
  },
  {
   "cell_type": "markdown",
   "id": "49229a21",
   "metadata": {},
   "source": [
    "Score"
   ]
  },
  {
   "cell_type": "code",
   "execution_count": 112,
   "id": "469207cf",
   "metadata": {},
   "outputs": [
    {
     "data": {
      "text/plain": [
       "0.5393"
      ]
     },
     "execution_count": 112,
     "metadata": {},
     "output_type": "execute_result"
    }
   ],
   "source": [
    "round(SVM.score(X_test, y_test), 4)"
   ]
  },
  {
   "cell_type": "markdown",
   "id": "7e585525",
   "metadata": {},
   "source": [
    "Unique values"
   ]
  },
  {
   "cell_type": "code",
   "execution_count": 113,
   "id": "4e6ab70d",
   "metadata": {},
   "outputs": [
    {
     "data": {
      "text/plain": [
       "array(['Late Stage Venture', 'IPO'], dtype=object)"
      ]
     },
     "execution_count": 113,
     "metadata": {},
     "output_type": "execute_result"
    }
   ],
   "source": [
    "test[\"SVM_Classification\"].unique()"
   ]
  },
  {
   "cell_type": "markdown",
   "id": "4f247de2",
   "metadata": {},
   "source": [
    "Conclusion"
   ]
  },
  {
   "cell_type": "markdown",
   "id": "25a5c1d6",
   "metadata": {},
   "source": [
    "* Score is only slightly below RF's (highest)\n",
    "* Only classifies as Late Stage Venture, IPO, or Early Stage Venture. This is still narrow."
   ]
  },
  {
   "cell_type": "markdown",
   "id": "9fd552c3",
   "metadata": {},
   "source": [
    "**3. Logistic Regression**"
   ]
  },
  {
   "cell_type": "markdown",
   "id": "dcabe061",
   "metadata": {},
   "source": [
    "Score"
   ]
  },
  {
   "cell_type": "code",
   "execution_count": 114,
   "id": "59732ec6",
   "metadata": {},
   "outputs": [
    {
     "data": {
      "text/plain": [
       "0.534"
      ]
     },
     "execution_count": 114,
     "metadata": {},
     "output_type": "execute_result"
    }
   ],
   "source": [
    "round(LR.score(X_test,y_test), 4)"
   ]
  },
  {
   "cell_type": "markdown",
   "id": "6008d9ff",
   "metadata": {},
   "source": [
    "Unique values"
   ]
  },
  {
   "cell_type": "code",
   "execution_count": 115,
   "id": "f70bf1b8",
   "metadata": {},
   "outputs": [
    {
     "data": {
      "text/plain": [
       "array(['Late Stage Venture', 'Early Stage Venture', 'IPO'], dtype=object)"
      ]
     },
     "execution_count": 115,
     "metadata": {},
     "output_type": "execute_result"
    }
   ],
   "source": [
    "test[\"LR_Classification\"].unique()"
   ]
  },
  {
   "cell_type": "markdown",
   "id": "9dd1755d",
   "metadata": {},
   "source": [
    "Conclusion"
   ]
  },
  {
   "cell_type": "markdown",
   "id": "2f23d3bb",
   "metadata": {},
   "source": [
    "* Score is well below other too models\n",
    "* Only classifies as Late Stage Venture or IPO. This is very narrow."
   ]
  },
  {
   "cell_type": "markdown",
   "id": "9d52166c",
   "metadata": {},
   "source": [
    "# Interpretation"
   ]
  },
  {
   "cell_type": "markdown",
   "id": "84e455bb",
   "metadata": {},
   "source": [
    "## Identify most undervalued companies with Random Forest Classifier model"
   ]
  },
  {
   "cell_type": "markdown",
   "id": "26aa9e22",
   "metadata": {},
   "source": [
    "Companies that are in Series A, but are classified as being a Late Stage Venture would fall into this category"
   ]
  },
  {
   "cell_type": "code",
   "execution_count": 116,
   "id": "7e66494e",
   "metadata": {},
   "outputs": [],
   "source": [
    "undervalued = test[(test[\"Last_Funding_Type\"] == \"Series A\") & (test[\"RF_Classification\"] == \"Late Stage Venture\")]"
   ]
  },
  {
   "cell_type": "code",
   "execution_count": 117,
   "id": "835ef98e",
   "metadata": {},
   "outputs": [
    {
     "data": {
      "text/html": [
       "<div>\n",
       "<style scoped>\n",
       "    .dataframe tbody tr th:only-of-type {\n",
       "        vertical-align: middle;\n",
       "    }\n",
       "\n",
       "    .dataframe tbody tr th {\n",
       "        vertical-align: top;\n",
       "    }\n",
       "\n",
       "    .dataframe thead th {\n",
       "        text-align: right;\n",
       "    }\n",
       "</style>\n",
       "<table border=\"1\" class=\"dataframe\">\n",
       "  <thead>\n",
       "    <tr style=\"text-align: right;\">\n",
       "      <th></th>\n",
       "      <th>Name</th>\n",
       "      <th>Headquarters_Location</th>\n",
       "      <th>Total_Equity_Funding</th>\n",
       "      <th>Valuation</th>\n",
       "      <th>Valuation_Date</th>\n",
       "      <th>Industries</th>\n",
       "      <th>Top_5_Investors</th>\n",
       "      <th>Founded_Date</th>\n",
       "      <th>Funding_Status</th>\n",
       "      <th>Last_Funding_Date</th>\n",
       "      <th>Last_Funding_Amount</th>\n",
       "      <th>Last_Funding_Type</th>\n",
       "      <th>Number_Of_Acquisitions</th>\n",
       "      <th>CB_Rank</th>\n",
       "      <th>LR_Classification</th>\n",
       "      <th>SVM_Classification</th>\n",
       "      <th>RF_Classification</th>\n",
       "    </tr>\n",
       "  </thead>\n",
       "  <tbody>\n",
       "    <tr>\n",
       "      <th>74</th>\n",
       "      <td>Ping An Healthcare Management</td>\n",
       "      <td>Shanghai, Shanghai, China</td>\n",
       "      <td>1.150000e+09</td>\n",
       "      <td>8.800000e+09</td>\n",
       "      <td>2018-02-03</td>\n",
       "      <td>Health Care, Insurance, Medical</td>\n",
       "      <td>SoftBank Vision Fund, IDG Capital, SBI Group, ...</td>\n",
       "      <td>Jun-05</td>\n",
       "      <td>Early Stage Venture</td>\n",
       "      <td>2018-02-03</td>\n",
       "      <td>1.150000e+09</td>\n",
       "      <td>Series A</td>\n",
       "      <td>0</td>\n",
       "      <td>36034</td>\n",
       "      <td>Late Stage Venture</td>\n",
       "      <td>Late Stage Venture</td>\n",
       "      <td>Late Stage Venture</td>\n",
       "    </tr>\n",
       "    <tr>\n",
       "      <th>393</th>\n",
       "      <td>Jusda</td>\n",
       "      <td>Shenzhen, Guangdong, China</td>\n",
       "      <td>3.642805e+08</td>\n",
       "      <td>2.580320e+09</td>\n",
       "      <td>2019-01-29</td>\n",
       "      <td>Electronics, Logistics, Supply Chain Management</td>\n",
       "      <td>CICC, IDG Capital, Oriza Holdings, China Life ...</td>\n",
       "      <td>2014</td>\n",
       "      <td>Early Stage Venture</td>\n",
       "      <td>2019-01-29</td>\n",
       "      <td>3.642805e+08</td>\n",
       "      <td>Series A</td>\n",
       "      <td>0</td>\n",
       "      <td>28260</td>\n",
       "      <td>Late Stage Venture</td>\n",
       "      <td>Late Stage Venture</td>\n",
       "      <td>Late Stage Venture</td>\n",
       "    </tr>\n",
       "    <tr>\n",
       "      <th>741</th>\n",
       "      <td>Beta Technologies</td>\n",
       "      <td>South Burlington, Vermont, United States</td>\n",
       "      <td>5.110000e+08</td>\n",
       "      <td>1.400000e+09</td>\n",
       "      <td>2021-05-18</td>\n",
       "      <td>Aerospace, Air Transportation, CleanTech, Manu...</td>\n",
       "      <td>Fidelity Management and Research Company, Clim...</td>\n",
       "      <td>1-Apr-17</td>\n",
       "      <td>Early Stage Venture</td>\n",
       "      <td>2021-05-18</td>\n",
       "      <td>3.680000e+08</td>\n",
       "      <td>Series A</td>\n",
       "      <td>0</td>\n",
       "      <td>3949</td>\n",
       "      <td>Late Stage Venture</td>\n",
       "      <td>Late Stage Venture</td>\n",
       "      <td>Late Stage Venture</td>\n",
       "    </tr>\n",
       "    <tr>\n",
       "      <th>598</th>\n",
       "      <td>Wave Mobile Money</td>\n",
       "      <td>Dakar, Dakar, Senegal</td>\n",
       "      <td>2.000000e+08</td>\n",
       "      <td>1.700000e+09</td>\n",
       "      <td>2021-09-07</td>\n",
       "      <td>Financial Services, FinTech, Mobile Payments</td>\n",
       "      <td>Stripe, Founders Fund, Ribbit Capital, Partech...</td>\n",
       "      <td>1-Feb-18</td>\n",
       "      <td>Early Stage Venture</td>\n",
       "      <td>2021-09-07</td>\n",
       "      <td>2.000000e+08</td>\n",
       "      <td>Series A</td>\n",
       "      <td>0</td>\n",
       "      <td>2235</td>\n",
       "      <td>Late Stage Venture</td>\n",
       "      <td>Late Stage Venture</td>\n",
       "      <td>Late Stage Venture</td>\n",
       "    </tr>\n",
       "    <tr>\n",
       "      <th>699</th>\n",
       "      <td>ECARX</td>\n",
       "      <td>Hangzhou, Zhejiang, China</td>\n",
       "      <td>3.943239e+08</td>\n",
       "      <td>1.517835e+09</td>\n",
       "      <td>2020-10-27</td>\n",
       "      <td>Artificial Intelligence, Automotive, Informati...</td>\n",
       "      <td>SIG China (SIG Asia Investments), Baidu, Yangt...</td>\n",
       "      <td>4-May-16</td>\n",
       "      <td>Early Stage Venture</td>\n",
       "      <td>2021-02-25</td>\n",
       "      <td>2.000000e+08</td>\n",
       "      <td>Series A</td>\n",
       "      <td>0</td>\n",
       "      <td>3295</td>\n",
       "      <td>Late Stage Venture</td>\n",
       "      <td>Late Stage Venture</td>\n",
       "      <td>Late Stage Venture</td>\n",
       "    </tr>\n",
       "  </tbody>\n",
       "</table>\n",
       "</div>"
      ],
      "text/plain": [
       "                              Name                     Headquarters_Location  \\\n",
       "74   Ping An Healthcare Management                 Shanghai, Shanghai, China   \n",
       "393                          Jusda                Shenzhen, Guangdong, China   \n",
       "741              Beta Technologies  South Burlington, Vermont, United States   \n",
       "598              Wave Mobile Money                     Dakar, Dakar, Senegal   \n",
       "699                          ECARX                 Hangzhou, Zhejiang, China   \n",
       "\n",
       "     Total_Equity_Funding     Valuation Valuation_Date  \\\n",
       "74           1.150000e+09  8.800000e+09     2018-02-03   \n",
       "393          3.642805e+08  2.580320e+09     2019-01-29   \n",
       "741          5.110000e+08  1.400000e+09     2021-05-18   \n",
       "598          2.000000e+08  1.700000e+09     2021-09-07   \n",
       "699          3.943239e+08  1.517835e+09     2020-10-27   \n",
       "\n",
       "                                            Industries  \\\n",
       "74                     Health Care, Insurance, Medical   \n",
       "393    Electronics, Logistics, Supply Chain Management   \n",
       "741  Aerospace, Air Transportation, CleanTech, Manu...   \n",
       "598       Financial Services, FinTech, Mobile Payments   \n",
       "699  Artificial Intelligence, Automotive, Informati...   \n",
       "\n",
       "                                       Top_5_Investors Founded_Date  \\\n",
       "74   SoftBank Vision Fund, IDG Capital, SBI Group, ...       Jun-05   \n",
       "393  CICC, IDG Capital, Oriza Holdings, China Life ...         2014   \n",
       "741  Fidelity Management and Research Company, Clim...     1-Apr-17   \n",
       "598  Stripe, Founders Fund, Ribbit Capital, Partech...     1-Feb-18   \n",
       "699  SIG China (SIG Asia Investments), Baidu, Yangt...     4-May-16   \n",
       "\n",
       "          Funding_Status Last_Funding_Date  Last_Funding_Amount  \\\n",
       "74   Early Stage Venture        2018-02-03         1.150000e+09   \n",
       "393  Early Stage Venture        2019-01-29         3.642805e+08   \n",
       "741  Early Stage Venture        2021-05-18         3.680000e+08   \n",
       "598  Early Stage Venture        2021-09-07         2.000000e+08   \n",
       "699  Early Stage Venture        2021-02-25         2.000000e+08   \n",
       "\n",
       "    Last_Funding_Type  Number_Of_Acquisitions  CB_Rank   LR_Classification  \\\n",
       "74           Series A                       0    36034  Late Stage Venture   \n",
       "393          Series A                       0    28260  Late Stage Venture   \n",
       "741          Series A                       0     3949  Late Stage Venture   \n",
       "598          Series A                       0     2235  Late Stage Venture   \n",
       "699          Series A                       0     3295  Late Stage Venture   \n",
       "\n",
       "     SVM_Classification   RF_Classification  \n",
       "74   Late Stage Venture  Late Stage Venture  \n",
       "393  Late Stage Venture  Late Stage Venture  \n",
       "741  Late Stage Venture  Late Stage Venture  \n",
       "598  Late Stage Venture  Late Stage Venture  \n",
       "699  Late Stage Venture  Late Stage Venture  "
      ]
     },
     "execution_count": 117,
     "metadata": {},
     "output_type": "execute_result"
    }
   ],
   "source": [
    "undervalued"
   ]
  },
  {
   "cell_type": "markdown",
   "id": "6ddf7d2a",
   "metadata": {},
   "source": [
    "**These are the most undervalued companies according to our model**"
   ]
  },
  {
   "cell_type": "markdown",
   "id": "bdae3bc8",
   "metadata": {},
   "source": [
    "## Surface observations"
   ]
  },
  {
   "cell_type": "markdown",
   "id": "8ffa7592",
   "metadata": {},
   "source": [
    "* We identified 5 out of 191 companies in our test data as undervalued\n",
    "* 3 out of 5 of the companies are headquartered in China\n",
    "* 1 out of 5 of the companies are headquartered in the United States\n",
    "* 1 out of 5 of the companies are headquartered in Africa"
   ]
  },
  {
   "cell_type": "markdown",
   "id": "4b4ccdf6",
   "metadata": {},
   "source": [
    "## Further analysis of results"
   ]
  },
  {
   "cell_type": "markdown",
   "id": "bf9da287",
   "metadata": {},
   "source": [
    "### Find most common industry"
   ]
  },
  {
   "cell_type": "code",
   "execution_count": 118,
   "id": "943b1409",
   "metadata": {},
   "outputs": [
    {
     "name": "stdout",
     "output_type": "stream",
     "text": [
      "Health Care 1\n",
      "Insurance 1\n",
      "Medical 1\n",
      "Electronics 1\n",
      "Logistics 1\n",
      "Supply Chain Management 1\n",
      "Aerospace 1\n",
      "Air Transportation 1\n",
      "CleanTech 1\n",
      "Manufacturing 1\n",
      "Financial Services 1\n",
      "FinTech 1\n",
      "Mobile Payments 1\n",
      "Artificial Intelligence 1\n",
      "Automotive 1\n",
      "Information Services 1\n",
      "Software 1\n"
     ]
    }
   ],
   "source": [
    "all_industries = {}\n",
    "\n",
    "for index, row in undervalued.iterrows():\n",
    "    industries = row[\"Industries\"].split(\",\")\n",
    "    for i in range(len(industries)):\n",
    "        industry = industries[i].strip()\n",
    "        if industry in all_industries:\n",
    "            all_industries[industry] += 1\n",
    "        else:\n",
    "            all_industries[industry] = 1\n",
    "\n",
    "for key, value in sorted(all_industries.items(),\n",
    "                        key=lambda item: item[1], reverse=True):\n",
    "    print(key, value)"
   ]
  },
  {
   "cell_type": "markdown",
   "id": "4ac05a9d",
   "metadata": {},
   "source": [
    "**The industries found are completely unique!**"
   ]
  },
  {
   "cell_type": "markdown",
   "id": "a6b52cf5",
   "metadata": {},
   "source": [
    "### Find most common (Top 5) investor"
   ]
  },
  {
   "cell_type": "code",
   "execution_count": 119,
   "id": "823b3990",
   "metadata": {},
   "outputs": [
    {
     "name": "stdout",
     "output_type": "stream",
     "text": [
      "IDG Capital 2\n",
      "SoftBank Vision Fund 1\n",
      "SBI Group 1\n",
      "Hermitage Equity Partners 1\n",
      "CICC 1\n",
      "Oriza Holdings 1\n",
      "China Life Insurance 1\n",
      "TI Capital 1\n",
      "Fidelity Management and Research Company 1\n",
      "Climate Pledge Fund 1\n",
      "RedBird Capital Partners 1\n",
      "Stripe 1\n",
      "Founders Fund 1\n",
      "Ribbit Capital 1\n",
      "Partech 1\n",
      "Sam Altman 1\n",
      "SIG China (SIG Asia Investments) 1\n",
      "Baidu 1\n",
      "Yangtze River Industry Fund 1\n",
      "Hangzhou Trust 1\n",
      "China Reform Holdings Corporation 1\n"
     ]
    }
   ],
   "source": [
    "all_investors = {}\n",
    "\n",
    "for index, row in undervalued.iterrows():\n",
    "    investors = row[\"Top_5_Investors\"].split(\",\")\n",
    "    for i in range(len(investors)):\n",
    "        investor = investors[i].strip()\n",
    "        if investor in all_investors:\n",
    "            all_investors[investor] += 1\n",
    "        else:\n",
    "            all_investors[investor] = 1\n",
    "\n",
    "for key, value in sorted(all_investors.items(),\n",
    "                        key=lambda item: item[1], reverse=True):\n",
    "    print(key, value)"
   ]
  },
  {
   "cell_type": "markdown",
   "id": "d1283f35",
   "metadata": {},
   "source": [
    "**IDG Capital is the only investor that appeared twice**"
   ]
  },
  {
   "cell_type": "markdown",
   "id": "b8e395d0",
   "metadata": {},
   "source": [
    "## Distributions"
   ]
  },
  {
   "cell_type": "markdown",
   "id": "243c8364",
   "metadata": {},
   "source": [
    "### Histrograms"
   ]
  },
  {
   "cell_type": "code",
   "execution_count": 120,
   "id": "0ca32521",
   "metadata": {},
   "outputs": [
    {
     "data": {
      "text/plain": [
       "array([[<AxesSubplot:title={'center':'Total_Equity_Funding'}>,\n",
       "        <AxesSubplot:title={'center':'Valuation'}>],\n",
       "       [<AxesSubplot:title={'center':'Last_Funding_Amount'}>,\n",
       "        <AxesSubplot:>]], dtype=object)"
      ]
     },
     "execution_count": 120,
     "metadata": {},
     "output_type": "execute_result"
    },
    {
     "data": {
      "image/png": "[encoded data removed]",
      "text/plain": [
       "<Figure size 432x288 with 4 Axes>"
      ]
     },
     "metadata": {
      "needs_background": "light"
     },
     "output_type": "display_data"
    }
   ],
   "source": [
    "undervalued.hist(column=[\"Total_Equity_Funding\", \"Valuation\", \"Last_Funding_Amount\"] )"
   ]
  },
  {
   "cell_type": "markdown",
   "id": "c7e4a15b",
   "metadata": {},
   "source": [
    "The data is well-distributed."
   ]
  },
  {
   "cell_type": "markdown",
   "id": "fb5f4766",
   "metadata": {},
   "source": [
    "## Final conclusions"
   ]
  },
  {
   "cell_type": "markdown",
   "id": "26ab05bc",
   "metadata": {},
   "source": [
    "As seen above, we created multiple models and identified one as better than the others. We were able to successfully identify undervalued companies (according to our model) in our test dataset. With these results, we can do further research into these companies using qualitative analysis to decide if we would like to personally invest in them."
   ]
  }
 ],
 "metadata": {
  "kernelspec": {
   "display_name": "Python 3 (ipykernel)",
   "language": "python",
   "name": "python3"
  },
  "language_info": {
   "codemirror_mode": {
    "name": "ipython",
    "version": 3
   },
   "file_extension": ".py",
   "mimetype": "text/x-python",
   "name": "python",
   "nbconvert_exporter": "python",
   "pygments_lexer": "ipython3",
   "version": "3.8.2"
  }
 },
 "nbformat": 4,
 "nbformat_minor": 5
}
